{
  "nbformat": 4,
  "nbformat_minor": 0,
  "metadata": {
    "colab": {
      "provenance": []
    },
    "kernelspec": {
      "name": "python3",
      "display_name": "Python 3"
    },
    "language_info": {
      "name": "python"
    },
    "gpuClass": "standard",
    "accelerator": "GPU"
  },
  "cells": [
    {
      "cell_type": "markdown",
      "source": [
        "# SoftRas"
      ],
      "metadata": {
        "id": "ev2X9Ukrl53V"
      }
    },
    {
      "cell_type": "markdown",
      "source": [
        "## Setup Environment"
      ],
      "metadata": {
        "id": "u76LB_SXmCzB"
      }
    },
    {
      "cell_type": "code",
      "source": [
        "!pip install -q condacolab\n",
        "import condacolab\n",
        "condacolab.install()"
      ],
      "metadata": {
        "colab": {
          "base_uri": "https://localhost:8080/"
        },
        "id": "ZeTo-9i2FUIT",
        "outputId": "5af2b8d1-d766-4e50-af34-58095747338e"
      },
      "execution_count": null,
      "outputs": [
        {
          "output_type": "stream",
          "name": "stdout",
          "text": [
            "⏬ Downloading https://github.com/jaimergp/miniforge/releases/latest/download/Mambaforge-colab-Linux-x86_64.sh...\n",
            "📦 Installing...\n",
            "📌 Adjusting configuration...\n",
            "🩹 Patching environment...\n",
            "⏲ Done in 0:00:17\n",
            "🔁 Restarting kernel...\n"
          ]
        }
      ]
    },
    {
      "cell_type": "code",
      "source": [
        "import condacolab\n",
        "condacolab.check()"
      ],
      "metadata": {
        "colab": {
          "base_uri": "https://localhost:8080/"
        },
        "id": "IG4vTT5RJiRd",
        "outputId": "73f08b9e-9862-4f59-f74b-e7906b491194"
      },
      "execution_count": null,
      "outputs": [
        {
          "output_type": "stream",
          "name": "stdout",
          "text": [
            "✨🍰✨ Everything looks OK!\n"
          ]
        }
      ]
    },
    {
      "cell_type": "code",
      "source": [
        "!wget https://raw.githubusercontent.com/Korusuke/DLProject/main/softras.yml"
      ],
      "metadata": {
        "colab": {
          "base_uri": "https://localhost:8080/"
        },
        "id": "LXcSbTILFUAb",
        "outputId": "750177e0-0137-42e3-eeb5-d7395d7e4c1c"
      },
      "execution_count": null,
      "outputs": [
        {
          "output_type": "stream",
          "name": "stdout",
          "text": [
            "--2022-12-21 03:16:46--  https://raw.githubusercontent.com/Korusuke/DLProject/main/softras.yml\n",
            "Resolving raw.githubusercontent.com (raw.githubusercontent.com)... 185.199.108.133, 185.199.109.133, 185.199.110.133, ...\n",
            "Connecting to raw.githubusercontent.com (raw.githubusercontent.com)|185.199.108.133|:443... connected.\n",
            "HTTP request sent, awaiting response... 200 OK\n",
            "Length: 6208 (6.1K) [text/plain]\n",
            "Saving to: ‘softras.yml’\n",
            "\n",
            "softras.yml         100%[===================>]   6.06K  --.-KB/s    in 0s      \n",
            "\n",
            "2022-12-21 03:16:46 (72.9 MB/s) - ‘softras.yml’ saved [6208/6208]\n",
            "\n"
          ]
        }
      ]
    },
    {
      "cell_type": "code",
      "source": [
        "!conda env update -n base -f softras.yml"
      ],
      "metadata": {
        "colab": {
          "base_uri": "https://localhost:8080/"
        },
        "id": "4akKzO2WFT4_",
        "outputId": "de798366-39af-451a-95ad-bf25158df127"
      },
      "execution_count": null,
      "outputs": [
        {
          "output_type": "stream",
          "name": "stdout",
          "text": [
            "Collecting package metadata (repodata.json): - \b\b\\ \b\b| \b\b/ \b\b- \b\b\\ \b\b| \b\b/ \b\b- \b\b\\ \b\b| \b\b/ \b\b- \b\b\\ \b\b| \b\b/ \b\b- \b\b\\ \b\b| \b\b/ \b\b- \b\b\\ \b\b| \b\b/ \b\b- \b\b\\ \b\b| \b\b/ \b\b- \b\b\\ \b\b| \b\b/ \b\b- \b\b\\ \b\b| \b\b/ \b\b- \b\b\\ \b\b| \b\b/ \b\b- \b\b\\ \b\b| \b\b/ \b\b- \b\b\\ \b\b| \b\b/ \b\b- \b\b\\ \b\b| \b\b/ \b\b- \b\b\\ \b\b| \b\b/ \b\b- \b\b\\ \b\b| \b\b/ \b\b- \b\b\\ \b\b| \b\b/ \b\b- \b\b\\ \b\b| \b\b/ \b\b- \b\b\\ \b\b| \b\b/ \b\b- \b\b\\ \b\b| \b\b/ \b\b- \b\b\\ \b\b| \b\b/ \b\b- \b\b\\ \b\b| \b\b/ \b\b- \b\b\\ \b\b| \b\b/ \b\b- \b\b\\ \b\b| \b\b/ \b\b- \b\b\\ \b\b| \b\b/ \b\b- \b\b\\ \b\b| \b\b/ \b\b- \b\b\\ \b\b| \b\b/ \b\b- \b\b\\ \b\b| \b\b/ \b\b- \b\b\\ \b\b| \b\b/ \b\b- \b\b\\ \b\b| \b\b/ \b\b- \b\b\\ \b\b| \b\b/ \b\b- \b\b\\ \b\b| \b\b/ \b\b- \b\b\\ \b\b| \b\b/ \b\b- \b\b\\ \b\b| \b\b/ \b\b- \b\b\\ \b\b| \b\b/ \b\b- \b\b\\ \b\b| \b\b/ \b\b- \b\b\\ \b\b| \b\b/ \b\b- \b\b\\ \b\b| \b\b/ \b\b- \b\b\\ \b\b| \b\b/ \b\b- \b\b\\ \b\b| \b\b/ \b\b- \b\b\\ \b\b| \b\b/ \b\b- \b\b\\ \b\b| \b\b/ \b\b- \b\b\\ \b\b| \b\b/ \b\b- \b\b\\ \b\b| \b\b/ \b\b- \b\b\\ \b\b| \b\b/ \b\b- \b\b\\ \b\b| \b\b/ \b\b- \b\b\\ \b\b| \b\b/ \b\b- \b\b\\ \b\b| \b\b/ \b\b- \b\b\\ \b\b| \b\b/ \b\b- \b\b\\ \b\b| \b\b/ \b\b- \b\b\\ \b\b| \b\b/ \b\b- \b\b\\ \b\b| \b\b/ \b\b- \b\b\\ \b\b| \b\b/ \b\b- \b\b\\ \b\b| \b\b/ \b\b- \b\b\\ \b\b| \b\b/ \b\b- \b\b\\ \b\b| \b\b/ \b\b- \b\b\\ \b\b| \b\b/ \b\b- \b\b\\ \b\b| \b\b/ \b\b- \b\b\\ \b\b| \b\b/ \b\b- \b\b\\ \b\b| \b\b/ \b\b- \b\b\\ \b\b| \b\b/ \b\b- \b\b\\ \b\b| \b\b/ \b\b- \b\b\\ \b\b| \b\b/ \b\b- \b\b\\ \b\b| \b\b/ \b\b- \b\b\\ \b\b| \b\b/ \b\b- \b\b\\ \b\b| \b\b/ \b\b- \b\b\\ \b\b| \b\b/ \b\b- \b\b\\ \b\b| \b\b/ \b\b- \b\b\\ \b\b| \b\b/ \b\b- \b\b\\ \b\b| \b\b/ \b\b- \b\b\\ \b\b| \b\b/ \b\b- \b\b\\ \b\b| \b\b/ \b\b- \b\b\\ \b\b| \b\b/ \b\b- \b\b\\ \b\b| \b\b/ \b\b- \b\b\\ \b\b| \b\b/ \b\b- \b\b\\ \b\b| \b\b/ \b\b- \b\b\\ \b\b| \b\b/ \b\b- \b\b\\ \b\b| \b\b/ \b\b- \b\b\\ \b\b| \b\b/ \b\b- \b\b\\ \b\b| \b\b/ \b\b- \b\b\\ \b\b| \b\b/ \b\b- \b\b\\ \b\b| \b\b/ \b\b- \b\b\\ \b\b| \b\b/ \b\b- \b\b\\ \b\b| \b\b/ \b\b- \b\b\\ \b\b| \b\b/ \b\b- \b\b\\ \b\b| \b\b/ \b\b- \b\b\\ \b\b| \b\b/ \b\b- \b\b\\ \b\b| \b\b/ \b\b- \b\b\\ \b\b| \b\b/ \b\b- \b\b\\ \b\b| \b\b/ \b\b- \b\b\\ \b\b| \b\b/ \b\b- \b\b\\ \b\b| \b\b/ \b\b- \b\b\\ \b\b| \b\b/ \b\b- \b\b\\ \b\b| \b\b/ \b\b- \b\b\\ \b\b| \b\b/ \b\b- \b\b\\ \b\b| \b\b/ \b\b- \b\b\\ \b\b| \b\b/ \b\b- \b\b\\ \b\b| \b\b/ \b\b- \b\b\\ \b\b| \b\b/ \b\b- \b\b\\ \b\b| \b\b/ \b\b- \b\b\\ \b\b| \b\b/ \b\b- \b\b\\ \b\b| \b\b/ \b\b- \b\b\\ \b\b| \b\b/ \b\b- \b\b\\ \b\b| \b\b/ \b\b- \b\b\\ \b\b| \b\b/ \b\b- \b\b\\ \b\b| \b\b/ \b\b- \b\b\\ \b\b| \b\b/ \b\b- \b\b\\ \b\b| \b\b/ \b\b- \b\b\\ \b\b| \b\b/ \b\b- \b\b\\ \b\b| \b\b/ \b\b- \b\b\\ \b\b| \b\b/ \b\b- \b\b\\ \b\b| \b\b/ \b\b- \b\b\\ \b\b| \b\b/ \b\b- \b\b\\ \b\b| \b\b/ \b\b- \b\b\\ \b\b| \b\b/ \b\b- \b\b\\ \b\b| \b\b/ \b\b- \b\b\\ \b\b| \b\b/ \b\b- \b\b\\ \b\b| \b\b/ \b\b- \b\b\\ \b\b| \b\b/ \b\b- \b\b\\ \b\b| \b\b/ \b\b- \b\b\\ \b\b| \b\b/ \b\b- \b\b\\ \b\b| \b\b/ \b\b- \b\b\\ \b\b| \b\b/ \b\b- \b\b\\ \b\b| \b\b/ \b\b- \b\b\\ \b\b| \b\b/ \b\b- \b\b\\ \b\b| \b\b/ \b\b- \b\b\\ \b\b| \b\b/ \b\b- \b\b\\ \b\b| \b\b/ \b\b- \b\b\\ \b\b| \b\b/ \b\b- \b\b\\ \b\b| \b\b/ \b\b- \b\b\\ \b\b| \b\b/ \b\b- \b\b\\ \b\b| \b\b/ \b\b- \b\b\\ \b\b| \b\b/ \b\b- \b\bdone\n",
            "Solving environment: | \b\b/ \b\b- \b\b\\ \b\b| \b\b/ \b\b- \b\b\\ \b\b| \b\b/ \b\b- \b\b\\ \b\b| \b\b/ \b\b- \b\b\\ \b\b| \b\b/ \b\b- \b\b\\ \b\b| \b\b/ \b\b- \b\b\\ \b\b| \b\b/ \b\b- \b\b\\ \b\b| \b\b/ \b\b- \b\b\\ \b\b| \b\b/ \b\b- \b\b\\ \b\b| \b\b/ \b\b- \b\b\\ \b\b| \b\b/ \b\b- \b\b\\ \b\b| \b\b/ \b\b- \b\b\\ \b\b| \b\b/ \b\b- \b\b\\ \b\b| \b\b/ \b\b- \b\b\\ \b\b| \b\b/ \b\b- \b\b\\ \b\b| \b\b/ \b\b- \b\b\\ \b\b| \b\b/ \b\b- \b\b\\ \b\b| \b\b/ \b\b- \b\b\\ \b\b| \b\b/ \b\b- \b\b\\ \b\b| \b\b/ \b\b- \b\b\\ \b\b| \b\b/ \b\b- \b\b\\ \b\b| \b\b/ \b\b- \b\b\\ \b\b| \b\b/ \b\b- \b\b\\ \b\b| \b\b/ \b\b- \b\b\\ \b\b| \b\b/ \b\b- \b\b\\ \b\b| \b\b/ \b\b- \b\b\\ \b\b| \b\b/ \b\b- \b\b\\ \b\b| \b\b/ \b\b- \b\b\\ \b\b| \b\b/ \b\b- \b\b\\ \b\b| \b\b/ \b\b- \b\b\\ \b\b| \b\b/ \b\b- \b\b\\ \b\b| \b\b/ \b\b- \b\b\\ \b\b| \b\b/ \b\b- \b\b\\ \b\b| \b\b/ \b\b- \b\b\\ \b\b| \b\b/ \b\b- \b\b\\ \b\b| \b\b/ \b\b- \b\b\\ \b\b| \b\b/ \b\b- \b\b\\ \b\b| \b\b/ \b\b- \b\b\\ \b\b| \b\b/ \b\b- \b\b\\ \b\b| \b\b/ \b\b- \b\b\\ \b\b| \b\b/ \b\b- \b\b\\ \b\b| \b\b/ \b\b- \b\b\\ \b\b| \b\b/ \b\b- \b\b\\ \b\b| \b\b/ \b\b- \b\b\\ \b\b| \b\b/ \b\b- \b\b\\ \b\b| \b\b/ \b\b- \b\b\\ \b\b| \b\b/ \b\b- \b\b\\ \b\b| \b\b/ \b\b- \b\b\\ \b\b| \b\b/ \b\b- \b\b\\ \b\b| \b\b/ \b\b- \b\b\\ \b\b| \b\b/ \b\b- \b\b\\ \b\b| \b\b/ \b\b- \b\b\\ \b\b| \b\b/ \b\b- \b\b\\ \b\b| \b\b/ \b\b- \b\b\\ \b\b| \b\b/ \b\b- \b\b\\ \b\b| \b\b/ \b\b- \b\b\\ \b\b| \b\b/ \b\b- \b\b\\ \b\b| \b\b/ \b\b- \b\b\\ \b\b| \b\b/ \b\b- \b\b\\ \b\b| \b\b/ \b\b- \b\b\\ \b\b| \b\b/ \b\b- \b\b\\ \b\b| \b\b/ \b\b- \b\b\\ \b\b| \b\b/ \b\b- \b\b\\ \b\b| \b\b/ \b\b- \b\b\\ \b\b| \b\b/ \b\b- \b\b\\ \b\b| \b\b/ \b\b- \b\b\\ \b\b| \b\b/ \b\b- \b\b\\ \b\b| \b\b/ \b\b- \b\b\\ \b\b| \b\b/ \b\b- \b\b\\ \b\b| \b\b/ \b\b- \b\b\\ \b\b| \b\b/ \b\b- \b\b\\ \b\b| \b\b/ \b\b- \b\b\\ \b\b| \b\b/ \b\b- \b\b\\ \b\b| \b\b/ \b\b- \b\b\\ \b\b| \b\b/ \b\b- \b\b\\ \b\b| \b\b/ \b\b- \b\b\\ WARNING conda.core.solve:_add_specs(652): pinned spec cudatoolkit=11.2 conflicts with explicit specs.  Overriding pinned spec.\n",
            "\b\b| \b\b/ \b\b- \b\b\\ \b\b| \b\b/ \b\b- \b\b\\ \b\b| \b\b/ \b\b- \b\b\\ \b\b| \b\b/ \b\b- \b\b\\ \b\b| \b\b/ \b\b- \b\b\\ \b\b| \b\b/ \b\b- \b\b\\ \b\b| \b\b/ \b\b- \b\b\\ \b\b| \b\b/ \b\b- \b\b\\ \b\b| \b\b/ \b\b- \b\b\\ \b\b| \b\b/ \b\b- \b\b\\ \b\b| \b\b/ \b\b- \b\b\\ \b\b| \b\bdone\n",
            "\n",
            "\n",
            "==> WARNING: A newer version of conda exists. <==\n",
            "  current version: 22.9.0\n",
            "  latest version: 22.11.1\n",
            "\n",
            "Please update conda by running\n",
            "\n",
            "    $ conda update -n base -c conda-forge conda\n",
            "\n",
            "\n",
            "\n",
            "Downloading and Extracting Packages\n",
            "libpq-15.1           | 2.4 MB    | : 100% 1.0/1 [00:00<00:00,  2.89it/s]\n",
            "gstreamer-orc-0.4.33 | 299 KB    | : 100% 1.0/1 [00:00<00:00, 11.15it/s]\n",
            "liblapack-3.9.0      | 12 KB     | : 100% 1.0/1 [00:00<00:00, 14.82it/s]\n",
            "ipykernel-6.9.1      | 196 KB    | : 100% 1.0/1 [00:00<00:00,  2.02it/s]                \n",
            "libcap-2.66          | 97 KB     | : 100% 1.0/1 [00:00<00:00, 14.94it/s]\n",
            "blas-2.116           | 13 KB     | : 100% 1.0/1 [00:00<00:00, 25.08it/s]\n",
            "backcall-0.2.0       | 13 KB     | : 100% 1.0/1 [00:00<00:00, 23.70it/s]\n",
            "libbrotlicommon-1.0. | 66 KB     | : 100% 1.0/1 [00:00<00:00, 16.84it/s]\n",
            "libclang-15.0.6      | 129 KB    | : 100% 1.0/1 [00:00<00:00, 22.20it/s]\n",
            "libgcrypt-1.10.1     | 703 KB    | : 100% 1.0/1 [00:00<00:00,  7.75it/s]\n",
            "platformdirs-2.6.0   | 17 KB     | : 100% 1.0/1 [00:00<00:00, 17.29it/s]\n",
            "jpeg-9e              | 269 KB    | : 100% 1.0/1 [00:00<00:00, 12.60it/s]\n",
            "fontconfig-2.14.1    | 365 KB    | : 100% 1.0/1 [00:00<00:00,  8.42it/s]\n",
            "libcblas-3.9.0       | 12 KB     | : 100% 1.0/1 [00:00<00:00, 27.82it/s]\n",
            "torchvision-0.7.0    | 11.0 MB   | : 100% 1.0/1 [00:02<00:00,  2.36s/it]               \n",
            "openjpeg-2.5.0       | 533 KB    | : 100% 1.0/1 [00:00<00:00,  8.76it/s]\n",
            "pillow-9.2.0         | 45.3 MB   | : 100% 1.0/1 [00:07<00:00,  7.47s/it]\n",
            "mkl-include-2022.1.0 | 745 KB    | : 100% 1.0/1 [00:00<00:00,  2.29it/s]\n",
            "cycler-0.11.0        | 10 KB     | : 100% 1.0/1 [00:00<00:00, 34.38it/s]\n",
            "gettext-0.21.1       | 4.1 MB    | : 100% 1.0/1 [00:01<00:00,  1.21s/it]\n",
            "ply-3.11             | 44 KB     | : 100% 1.0/1 [00:00<00:00, 18.82it/s]\n",
            "pyzmq-24.0.1         | 482 KB    | : 100% 1.0/1 [00:00<00:00,  5.80it/s]\n",
            "pulseaudio-16.1      | 1.7 MB    | : 100% 1.0/1 [00:00<00:00,  2.69it/s]\n",
            "stack_data-0.6.2     | 26 KB     | : 100% 1.0/1 [00:00<00:00, 25.25it/s]\n",
            "ninja-1.11.0         | 2.8 MB    | : 100% 1.0/1 [00:00<00:00,  2.30it/s]\n",
            "debugpy-1.6.4        | 1.7 MB    | : 100% 1.0/1 [00:00<00:00,  4.58it/s]\n",
            "nest-asyncio-1.5.6   | 10 KB     | : 100% 1.0/1 [00:00<00:00, 29.94it/s]\n",
            "nss-3.82             | 1.9 MB    | : 100% 1.0/1 [00:00<00:00,  6.88it/s]\n",
            "pygments-2.13.0      | 821 KB    | : 100% 1.0/1 [00:00<00:00,  4.24it/s]\n",
            "xorg-libxau-1.0.9    | 13 KB     | : 100% 1.0/1 [00:00<00:00, 24.33it/s]\n",
            "font-ttf-dejavu-sans | 388 KB    | : 100% 1.0/1 [00:00<00:00, 11.56it/s]\n",
            "packaging-21.3       | 35 KB     | : 100% 1.0/1 [00:00<00:00, 14.89it/s]\n",
            "glib-tools-2.74.1    | 107 KB    | : 100% 1.0/1 [00:00<00:00, 18.44it/s]\n",
            "qt-main-5.15.6       | 52.5 MB   | : 100% 1.0/1 [00:04<00:00,  4.81s/it]               \n",
            "libopus-1.3.1        | 255 KB    | : 100% 1.0/1 [00:00<00:00, 16.11it/s]\n",
            "fonts-conda-forge-1  | 4 KB      | : 100% 1.0/1 [00:00<00:00, 37.50it/s]\n",
            "mysql-libs-8.0.31    | 1.9 MB    | : 100% 1.0/1 [00:00<00:00,  3.39it/s]\n",
            "gstreamer-1.21.2     | 1.9 MB    | : 100% 1.0/1 [00:00<00:00,  7.08it/s]\n",
            "dbus-1.13.6          | 604 KB    | : 100% 1.0/1 [00:00<00:00,  7.60it/s]\n",
            "unicodedata2-15.0.0  | 497 KB    | : 100% 1.0/1 [00:00<00:00, 11.28it/s]\n",
            "xorg-libxdmcp-1.1.3  | 19 KB     | : 100% 1.0/1 [00:00<00:00, 25.48it/s]\n",
            "jupyter_core-5.1.0   | 84 KB     | : 100% 1.0/1 [00:00<00:00, 20.73it/s]\n",
            "jedi-0.18.2          | 786 KB    | : 100% 1.0/1 [00:00<00:00,  2.17it/s]\n",
            "asttokens-2.2.1      | 27 KB     | : 100% 1.0/1 [00:00<00:00, 31.20it/s]\n",
            "prompt-toolkit-3.0.3 | 265 KB    | : 100% 1.0/1 [00:00<00:00, 13.27it/s]\n",
            "libglib-2.74.1       | 3.1 MB    | : 100% 1.0/1 [00:00<00:00,  1.72it/s]\n",
            "libsndfile-1.1.0     | 341 KB    | : 100% 1.0/1 [00:00<00:00, 21.31it/s]\n",
            "nspr-4.35            | 222 KB    | : 100% 1.0/1 [00:00<00:00, 14.94it/s]\n",
            "llvm-openmp-15.0.6   | 3.3 MB    | : 100% 1.0/1 [00:00<00:00,  9.58it/s]\n",
            "mpg123-1.31.1        | 522 KB    | : 100% 1.0/1 [00:00<00:00,  7.89it/s]\n",
            "libllvm15-15.0.6     | 30.5 MB   | : 100% 1.0/1 [00:00<00:00,  1.21it/s]               \n",
            "xcb-util-renderutil- | 15 KB     | : 100% 1.0/1 [00:00<00:00, 21.97it/s]\n",
            "glib-2.74.1          | 474 KB    | : 100% 1.0/1 [00:00<00:00,  4.96it/s]\n",
            "mysql-common-8.0.31  | 1.9 MB    | : 100% 1.0/1 [00:00<00:00,  2.04it/s]\n",
            "fftw-3.3.10          | 2.1 MB    | : 100% 1.0/1 [00:00<00:00, 12.87it/s]\n",
            "mkl-devel-2022.1.0   | 25 KB     | : 100% 1.0/1 [00:00<00:00, 26.52it/s]\n",
            "libhwloc-2.8.0       | 3.0 MB    | : 100% 1.0/1 [00:00<00:00,  2.29it/s]\n",
            "libbrotlidec-1.0.9   | 33 KB     | : 100% 1.0/1 [00:00<00:00, 22.58it/s]\n",
            "gst-plugins-base-1.2 | 2.5 MB    | : 100% 1.0/1 [00:00<00:00,  6.37it/s]\n",
            "expat-2.5.0          | 189 KB    | : 100% 1.0/1 [00:00<00:00, 16.15it/s]\n",
            "libudev1-252         | 118 KB    | : 100% 1.0/1 [00:00<00:00, 20.94it/s]\n",
            "libgfortran5-12.2.0  | 1.8 MB    | : 100% 1.0/1 [00:00<00:00,  3.23it/s]\n",
            "_ipython_minor_entry | 6 KB      | : 100% 1.0/1 [00:00<00:00, 27.91it/s]\n",
            "libsystemd0-252      | 384 KB    | : 100% 1.0/1 [00:00<00:00, 12.34it/s]\n",
            "pytorch-1.6.0        | 515.7 MB  | : 100% 1.0/1 [01:09<00:00, 69.83s/it]               \n",
            "pyqt-5.15.7          | 6.2 MB    | : 100% 1.0/1 [00:01<00:00,  1.30s/it]               \n",
            "brotli-bin-1.0.9     | 20 KB     | : 100% 1.0/1 [00:00<00:00, 25.96it/s]\n",
            "toml-0.10.2          | 18 KB     | : 100% 1.0/1 [00:00<00:00, 24.48it/s]\n",
            "libflac-1.4.2        | 411 KB    | : 100% 1.0/1 [00:00<00:00,  8.86it/s]\n",
            "kiwisolver-1.4.4     | 76 KB     | : 100% 1.0/1 [00:00<00:00, 17.57it/s]\n",
            "libcups-2.3.3        | 4.5 MB    | : 100% 1.0/1 [00:00<00:00,  1.84it/s]\n",
            "six-1.16.0           | 14 KB     | : 100% 1.0/1 [00:00<00:00, 24.84it/s]\n",
            "libdeflate-1.14      | 81 KB     | : 100% 1.0/1 [00:00<00:00, 23.27it/s]\n",
            "brotli-1.0.9         | 18 KB     | : 100% 1.0/1 [00:00<00:00, 29.06it/s]\n",
            "ipython-8.7.0        | 538 KB    | : 100% 1.0/1 [00:00<00:00,  8.84it/s]\n",
            "libtool-2.4.6        | 511 KB    | : 100% 1.0/1 [00:00<00:00,  5.71it/s]\n",
            "libblas-3.9.0        | 13 KB     | : 100% 1.0/1 [00:00<00:00, 27.50it/s]\n",
            "jupyter_client-7.4.8 | 97 KB     | : 100% 1.0/1 [00:00<00:00, 11.99it/s]\n",
            "libogg-1.3.4         | 206 KB    | : 100% 1.0/1 [00:00<00:00, 12.21it/s]\n",
            "wcwidth-0.2.5        | 33 KB     | : 100% 1.0/1 [00:00<00:00, 21.45it/s]\n",
            "font-ttf-ubuntu-0.83 | 1.9 MB    | : 100% 1.0/1 [00:00<00:00,  2.95it/s]\n",
            "libgpg-error-1.45    | 286 KB    | : 100% 1.0/1 [00:00<00:00, 10.21it/s]\n",
            "libvorbis-1.3.7      | 280 KB    | : 100% 1.0/1 [00:00<00:00,  8.20it/s]\n",
            "_openmp_mutex-4.5    | 6 KB      | : 100% 1.0/1 [00:00<00:00, 26.69it/s]\n",
            "xcb-util-wm-0.4.1    | 55 KB     | : 100% 1.0/1 [00:00<00:00, 20.05it/s]\n",
            "numpy-1.23.5         | 5.6 MB    | : 100% 1.0/1 [00:00<00:00,  2.23it/s]\n",
            "cudatoolkit-10.1.243 | 303.3 MB  | : 100% 1.0/1 [00:14<00:00, 14.86s/it]              \n",
            "mkl-2022.1.0         | 199.6 MB  | : 100% 1.0/1 [00:32<00:00, 32.78s/it] \n",
            "font-ttf-inconsolata | 94 KB     | : 100% 1.0/1 [00:00<00:00, 17.58it/s]\n",
            "matplotlib-base-3.6. | 7.5 MB    | : 100% 1.0/1 [00:01<00:00,  1.32s/it]               \n",
            "matplotlib-inline-0. | 12 KB     | : 100% 1.0/1 [00:00<00:00, 26.12it/s]\n",
            "blas-devel-3.9.0     | 12 KB     | : 100% 1.0/1 [00:00<00:00, 27.72it/s]\n",
            "pickleshare-0.7.5    | 9 KB      | : 100% 1.0/1 [00:00<00:00, 30.68it/s]\n",
            "lame-3.100           | 496 KB    | : 100% 1.0/1 [00:00<00:00,  9.17it/s]\n",
            "xcb-util-0.4.0       | 20 KB     | : 100% 1.0/1 [00:00<00:00, 25.97it/s]\n",
            "munkres-1.1.4        | 12 KB     | : 100% 1.0/1 [00:00<00:00, 32.98it/s]\n",
            "liblapacke-3.9.0     | 12 KB     | : 100% 1.0/1 [00:00<00:00, 28.59it/s]\n",
            "alsa-lib-1.2.8       | 578 KB    | : 100% 1.0/1 [00:00<00:00,  6.50it/s]\n",
            "backports-1.0        | 6 KB      | : 100% 1.0/1 [00:00<00:00, 23.53it/s]\n",
            "lcms2-2.14           | 256 KB    | : 100% 1.0/1 [00:00<00:00,  1.45it/s]\n",
            "sip-6.7.5            | 459 KB    | : 100% 1.0/1 [00:00<00:00,  9.23it/s]\n",
            "lerc-4.0.0           | 275 KB    | : 100% 1.0/1 [00:00<00:00, 15.21it/s]\n",
            "libtiff-4.4.0        | 651 KB    | : 100% 1.0/1 [00:01<00:00,  1.66s/it]\n",
            "xcb-util-keysyms-0.4 | 12 KB     | : 100% 1.0/1 [00:00<00:00, 33.26it/s]\n",
            "backports.functools_ | 9 KB      | : 100% 1.0/1 [00:00<00:00, 32.64it/s]\n",
            "decorator-5.1.1      | 12 KB     | : 100% 1.0/1 [00:00<00:00, 28.23it/s]\n",
            "libwebp-base-1.2.4   | 404 KB    | : 100% 1.0/1 [00:00<00:00,  9.08it/s]\n",
            "freetype-2.12.1      | 611 KB    | : 100% 1.0/1 [00:00<00:00, 15.18it/s]\n",
            "parso-0.8.3          | 69 KB     | : 100% 1.0/1 [00:00<00:00, 20.32it/s]\n",
            "libbrotlienc-1.0.9   | 288 KB    | : 100% 1.0/1 [00:00<00:00, 13.99it/s]\n",
            "tornado-6.2          | 654 KB    | : 100% 1.0/1 [00:00<00:00,  5.21it/s]\n",
            "fonts-conda-ecosyste | 4 KB      | : 100% 1.0/1 [00:00<00:00, 28.22it/s]\n",
            "libxcb-1.13          | 391 KB    | : 100% 1.0/1 [00:00<00:00,  7.02it/s]\n",
            "attr-2.5.1           | 69 KB     | : 100% 1.0/1 [00:00<00:00, 19.82it/s]\n",
            "pure_eval-0.2.2      | 14 KB     | : 100% 1.0/1 [00:00<00:00, 30.26it/s]\n",
            "contourpy-1.0.6      | 234 KB    | : 100% 1.0/1 [00:00<00:00, 12.53it/s]\n",
            "traitlets-5.7.0      | 91 KB     | : 100% 1.0/1 [00:00<00:00,  2.96it/s]                \n",
            "jack-1.9.21          | 450 KB    | : 100% 1.0/1 [00:00<00:00, 18.06it/s]\n",
            "font-ttf-source-code | 684 KB    | : 100% 1.0/1 [00:00<00:00,  6.91it/s]\n",
            "libxkbcommon-1.0.3   | 581 KB    | : 100% 1.0/1 [00:00<00:00,  9.21it/s]\n",
            "libgfortran-ng-12.2. | 22 KB     | : 100% 1.0/1 [00:00<00:00, 23.89it/s]\n",
            "xcb-util-image-0.4.0 | 24 KB     | : 100% 1.0/1 [00:00<00:00, 32.88it/s]\n",
            "pyqt5-sip-12.11.0    | 86 KB     | : 100% 1.0/1 [00:00<00:00, 20.23it/s]\n",
            "libsodium-1.0.18     | 366 KB    | : 100% 1.0/1 [00:00<00:00, 11.40it/s]\n",
            "python-dateutil-2.8. | 240 KB    | : 100% 1.0/1 [00:00<00:00, 16.05it/s]\n",
            "zeromq-4.3.4         | 351 KB    | : 100% 1.0/1 [00:00<00:00, 10.48it/s]\n",
            "matplotlib-3.6.2     | 7 KB      | : 100% 1.0/1 [00:00<00:00, 33.40it/s]\n",
            "certifi-2022.12.7    | 147 KB    | : 100% 1.0/1 [00:00<00:00, 32.42it/s]\n",
            "entrypoints-0.4      | 9 KB      | : 100% 1.0/1 [00:00<00:00, 37.60it/s]\n",
            "libclang13-15.0.6    | 9.0 MB    | : 100% 1.0/1 [00:00<00:00,  3.44it/s]\n",
            "tbb-2021.7.0         | 1.5 MB    | : 100% 1.0/1 [00:00<00:00, 16.69it/s]\n",
            "pthread-stubs-0.4    | 5 KB      | : 100% 1.0/1 [00:00<00:00, 21.86it/s]\n",
            "libpng-1.6.39        | 276 KB    | : 100% 1.0/1 [00:00<00:00, 23.81it/s]\n",
            "pcre2-10.40          | 2.3 MB    | : 100% 1.0/1 [00:00<00:00,  2.44it/s]\n",
            "ptyprocess-0.7.0     | 16 KB     | : 100% 1.0/1 [00:00<00:00, 31.89it/s]\n",
            "pyparsing-3.0.9      | 79 KB     | : 100% 1.0/1 [00:00<00:00, 18.63it/s]\n",
            "pexpect-4.8.0        | 48 KB     | : 100% 1.0/1 [00:00<00:00, 25.28it/s]\n",
            "ca-certificates-2022 | 143 KB    | : 100% 1.0/1 [00:00<00:00, 27.82it/s]\n",
            "libevent-2.1.10      | 1.1 MB    | : 100% 1.0/1 [00:00<00:00,  3.35it/s]\n",
            "executing-1.2.0      | 24 KB     | : 100% 1.0/1 [00:00<00:00, 24.08it/s]\n",
            "fonttools-4.38.0     | 1.9 MB    | : 100% 1.0/1 [00:00<00:00,  1.99it/s]\n",
            "libdb-6.2.32         | 23.3 MB   | : 100% 1.0/1 [00:05<00:00,  5.40s/it]               \n",
            "Preparing transaction: - \b\b\\ \b\b| \b\b/ \b\b- \b\b\\ \b\b| \b\b/ \b\b- \b\b\\ \b\b| \b\b/ \b\b- \b\bdone\n",
            "Verifying transaction: | \b\b/ \b\b- \b\b\\ \b\b| \b\b/ \b\b- \b\b\\ \b\b| \b\b/ \b\b- \b\b\\ \b\b| \b\b/ \b\b- \b\b\\ \b\b| \b\b/ \b\b- \b\b\\ \b\b| \b\b/ \b\b- \b\b\\ \b\b| \b\b/ \b\b- \b\b\\ \b\b| \b\b/ \b\b- \b\b\\ \b\b| \b\b/ \b\b- \b\b\\ \b\b| \b\b/ \b\b- \b\b\\ \b\b| \b\b/ \b\b- \b\b\\ \b\b| \b\bdone\n",
            "Executing transaction: - \b\b\\ \b\b| \b\b/ \b\b- \b\b\\ \b\b| \b\b/ \b\b- \b\b\\ \b\b| \b\b/ \b\b- \b\b\\ \b\b| \b\b/ \b\b- \b\b\\ \b\b| \b\b/ \b\b- \b\b\\ \b\b| \b\b/ \b\b- \b\b\\ \b\b| \b\b/ \b\b- \b\b\\ \b\b| \b\b/ \b\b- \b\b\\ \b\b| \b\b/ \b\b- \b\b\\ \b\b| \b\b/ \b\b- \b\b\\ \b\b| \b\b/ \b\b- \b\b\\ \b\b| \b\b/ \b\b- \b\b\\ \b\b| \b\b/ \b\b- \b\b\\ \b\b| \b\b/ \b\b- \b\b\\ By downloading and using the CUDA Toolkit conda packages, you accept the terms and conditions of the CUDA End User License Agreement (EULA): https://docs.nvidia.com/cuda/eula/index.html\n",
            "\n",
            "\b\b| \b\b/ \b\b- \b\b\\ \b\b| \b\b/ \b\b- \b\b\\ \b\b| \b\b/ \b\b- \b\b\\ \b\b| \b\b/ \b\b- \b\b\\ \b\b| \b\b/ \b\b- \b\b\\ \b\b| \b\b/ \b\b- \b\b\\ \b\b| \b\b/ \b\b- \b\b\\ \b\b| \b\b/ \b\b- \b\b\\ \b\b| \b\b/ \b\b- \b\b\\ \b\b| \b\b/ \b\bdone\n",
            "Installing pip dependencies: \\ \b\b| \b\b/ \b\b- \b\b\\ \b\b| \b\b/ \b\b- \b\b\\ \b\b| \b\b/ \b\b- \b\b\\ \b\b| \b\b/ \b\b- \b\b\\ \b\b| \b\b/ \b\b- \b\b\\ \b\b| \b\b/ \b\b- \b\b\\ \b\b| \b\b/ \b\b- \b\b\\ \b\b| \b\b/ \b\b- \b\b\\ \b\b| \b\b/ \b\b- \b\b\\ \b\b| \b\b/ \b\b- \b\b\\ \b\b| \b\b/ \b\b- \b\b\\ \b\b| \b\b/ \b\b- \b\b\\ \b\b| \b\b/ \b\b- \b\b\\ \b\b| \b\b/ \b\b- \b\b\\ \b\b| \b\b/ \b\b- \b\b\\ \b\b| \b\b/ \b\b- \b\b\\ \b\b| \b\b/ \b\b- \b\b\\ \b\b| \b\b/ \b\b- \b\b\\ \b\b| \b\b/ \b\b- \b\b\\ \b\b| \b\b/ \b\b- \b\b\\ \b\b| \b\b/ \b\b- \b\b\\ \b\b| \b\b/ \b\b- \b\b\\ \b\b| \b\b/ \b\b- \b\b\\ \b\b| \b\b/ \b\b- \b\b\\ \b\b| \b\b/ \b\b- \b\b\\ \b\b| \b\b/ \b\b- \b\b\\ \b\b| \b\b/ \b\b- \b\b\\ \b\b| \b\b/ \b\b- \b\b\\ \b\b| \b\b/ \b\b- \b\b\\ \b\b| \b\b/ \b\b- \b\b\\ \b\b| \b\b/ \b\b- \b\b\\ \b\b| \b\b/ \b\b- \b\b\\ \b\b| \b\b/ \b\b- \b\b\\ \b\b| \b\b/ \b\b- \b\b\\ \b\b| \b\b/ \b\b- \b\b\\ \b\b| \b\b/ \b\b- \b\b\\ \b\b| \b\b/ \b\b- \b\b\\ \b\b| \b\b/ \b\b- \b\b\\ \b\b| \b\b/ \b\b- \b\b\\ \b\b| \b\b/ \b\b- \b\b\\ \b\b| \b\b/ \b\b- \b\b\\ \b\b| \b\b/ \b\b- \b\b\\ \b\b| \b\b/ \b\b- \b\b\\ \b\b| \b\b/ \b\b- \b\b\\ \b\b| \b\b/ \b\b- \b\b\\ \b\b| \b\b/ \b\b- \b\b\\ \b\b| \b\b/ \b\b- \b\b\\ \b\b| \b\b/ \b\b- \b\b\\ \b\b| \b\b/ \b\b- \b\b\\ \b\b| \b\b/ \b\b- \b\b\\ \b\b| \b\b/ \b\b- \b\b\\ \b\b| \b\b/ \b\b- \b\b\\ \b\b| \b\b/ \b\b- \b\b\\ \b\b| \b\b/ \b\b- \b\b\\ \b\b| \b\b/ \b\b- \b\b\\ \b\b| \b\b/ \b\b- \b\b\\ \b\b| \b\b/ \b\b- \b\b\\ \b\b| \b\b/ \b\b- \b\b\\ \b\b| \b\b/ \b\b- \b\b\\ \b\b| \b\b/ \b\b- \b\b\\ \b\b| \b\b/ \b\b- \b\b\\ \b\b| \b\b/ \b\b- \b\b\\ \b\b| \b\b/ \b\b- \b\b\\ \b\b| \b\b/ \b\b- \b\b\\ \b\b| \b\b/ \b\b- \b\b\\ \b\b| \b\b/ \b\b- \b\b\\ \b\b| \b\b/ \b\b- \b\b\\ \b\b| \b\b/ \b\b- \b\b\\ \b\b| \b\b/ \b\b- \b\b\\ \b\b| \b\b/ \b\b- \b\b\\ \b\b| \b\b/ \b\b- \b\b\\ \b\b| \b\b/ \b\b- \b\b\\ \b\b| \b\b/ \b\b- \b\b\\ \b\b| \b\b/ \b\b- \b\b\\ \b\b| \b\b/ \b\b- \b\b\\ \b\b| \b\b/ \b\b- \b\b\\ \b\b| \b\b/ \b\b- \b\b\\ \b\b| \b\b/ \b\b- \b\b\\ \b\b| \b\b/ \b\b- \b\b\\ \b\b| \b\b/ \b\b- \b\b\\ \b\b| \b\b/ \b\b- \b\b\\ \b\b| \b\b/ \b\b- \b\b\\ \b\b| \b\b/ \b\b- \b\b\\ \b\b| \b\b/ \b\b- \b\b\\ \b\b| \b\b/ \b\b- \b\b\\ \b\b| \b\b/ \b\b- \b\b\\ \b\b| \b\b/ \b\b- Ran pip subprocess with arguments:\n",
            "['/usr/local/bin/python', '-m', 'pip', 'install', '-U', '-r', '/content/condaenv.k0gg7xdw.requirements.txt']\n",
            "Pip subprocess output:\n",
            "Looking in indexes: https://pypi.org/simple, https://us-python.pkg.dev/colab-wheels/public/simple/\n",
            "Collecting aiohttp==3.8.3\n",
            "  Downloading aiohttp-3.8.3-cp38-cp38-manylinux_2_17_x86_64.manylinux2014_x86_64.whl (1.0 MB)\n",
            "     ━━━━━━━━━━━━━━━━━━━━━━━━━━━━━━━━━━━━━━━━ 1.0/1.0 MB 20.4 MB/s eta 0:00:00\n",
            "Collecting aiosignal==1.3.1\n",
            "  Downloading aiosignal-1.3.1-py3-none-any.whl (7.6 kB)\n",
            "Collecting appdirs==1.4.4\n",
            "  Downloading appdirs-1.4.4-py2.py3-none-any.whl (9.6 kB)\n",
            "Collecting async-timeout==4.0.2\n",
            "  Downloading async_timeout-4.0.2-py3-none-any.whl (5.8 kB)\n",
            "Collecting attrs==22.1.0\n",
            "  Downloading attrs-22.1.0-py2.py3-none-any.whl (58 kB)\n",
            "     ━━━━━━━━━━━━━━━━━━━━━━━━━━━━━━━━━━━━━━━━ 58.8/58.8 kB 7.7 MB/s eta 0:00:00\n",
            "Collecting beautifulsoup4==4.11.1\n",
            "  Downloading beautifulsoup4-4.11.1-py3-none-any.whl (128 kB)\n",
            "     ━━━━━━━━━━━━━━━━━━━━━━━━━━━━━━━━━━━━━━ 128.2/128.2 kB 18.4 MB/s eta 0:00:00\n",
            "Collecting filelock==3.8.2\n",
            "  Downloading filelock-3.8.2-py3-none-any.whl (10 kB)\n",
            "Collecting frozenlist==1.3.3\n",
            "  Downloading frozenlist-1.3.3-cp38-cp38-manylinux_2_5_x86_64.manylinux1_x86_64.manylinux_2_17_x86_64.manylinux2014_x86_64.whl (161 kB)\n",
            "     ━━━━━━━━━━━━━━━━━━━━━━━━━━━━━━━━━━━━━━ 161.3/161.3 kB 23.1 MB/s eta 0:00:00\n",
            "Collecting future==0.18.2\n",
            "  Downloading future-0.18.2.tar.gz (829 kB)\n",
            "     ━━━━━━━━━━━━━━━━━━━━━━━━━━━━━━━━━━━━━━ 829.2/829.2 kB 65.4 MB/s eta 0:00:00\n",
            "  Preparing metadata (setup.py): started\n",
            "  Preparing metadata (setup.py): finished with status 'done'\n",
            "Collecting gdown==4.6.0\n",
            "  Downloading gdown-4.6.0-py3-none-any.whl (14 kB)\n",
            "Collecting imageio==2.22.4\n",
            "  Downloading imageio-2.22.4-py3-none-any.whl (3.4 MB)\n",
            "     ━━━━━━━━━━━━━━━━━━━━━━━━━━━━━━━━━━━━━━━━ 3.4/3.4 MB 96.8 MB/s eta 0:00:00\n",
            "Collecting multidict==6.0.3\n",
            "  Downloading multidict-6.0.3-cp38-cp38-manylinux_2_17_x86_64.manylinux2014_x86_64.whl (121 kB)\n",
            "     ━━━━━━━━━━━━━━━━━━━━━━━━━━━━━━━━━━━━━━ 121.3/121.3 kB 17.2 MB/s eta 0:00:00\n",
            "Collecting networkx==3.0rc1\n",
            "  Downloading networkx-3.0rc1-py3-none-any.whl (2.0 MB)\n",
            "     ━━━━━━━━━━━━━━━━━━━━━━━━━━━━━━━━━━━━━━━━ 2.0/2.0 MB 58.8 MB/s eta 0:00:00\n",
            "Collecting obj2html==0.14\n",
            "  Downloading obj2html-0.14.tar.gz (3.7 kB)\n",
            "  Preparing metadata (setup.py): started\n",
            "  Preparing metadata (setup.py): finished with status 'done'\n",
            "Collecting opencv-python==4.6.0.66\n",
            "  Downloading opencv_python-4.6.0.66-cp36-abi3-manylinux_2_17_x86_64.manylinux2014_x86_64.whl (60.9 MB)\n",
            "     ━━━━━━━━━━━━━━━━━━━━━━━━━━━━━━━━━━━━━━━━ 60.9/60.9 MB 13.5 MB/s eta 0:00:00\n",
            "Collecting packaging==22.0\n",
            "  Downloading packaging-22.0-py3-none-any.whl (42 kB)\n",
            "     ━━━━━━━━━━━━━━━━━━━━━━━━━━━━━━━━━━━━━━━━ 42.6/42.6 kB 6.0 MB/s eta 0:00:00\n",
            "Collecting pillow==9.3.0\n",
            "  Downloading Pillow-9.3.0-cp38-cp38-manylinux_2_17_x86_64.manylinux2014_x86_64.whl (3.2 MB)\n",
            "     ━━━━━━━━━━━━━━━━━━━━━━━━━━━━━━━━━━━━━━━━ 3.2/3.2 MB 94.3 MB/s eta 0:00:00\n",
            "Collecting pooch==1.6.0\n",
            "  Downloading pooch-1.6.0-py3-none-any.whl (56 kB)\n",
            "     ━━━━━━━━━━━━━━━━━━━━━━━━━━━━━━━━━━━━━━━━ 56.3/56.3 kB 7.6 MB/s eta 0:00:00\n",
            "Collecting pyvista==0.37.0\n",
            "  Downloading pyvista-0.37.0-py3-none-any.whl (1.5 MB)\n",
            "     ━━━━━━━━━━━━━━━━━━━━━━━━━━━━━━━━━━━━━━━━ 1.5/1.5 MB 78.3 MB/s eta 0:00:00\n",
            "Collecting pywavelets==1.4.1\n",
            "  Downloading PyWavelets-1.4.1-cp38-cp38-manylinux_2_17_x86_64.manylinux2014_x86_64.whl (6.9 MB)\n",
            "     ━━━━━━━━━━━━━━━━━━━━━━━━━━━━━━━━━━━━━━━━ 6.9/6.9 MB 110.8 MB/s eta 0:00:00\n",
            "Collecting scikit-image==0.19.3\n",
            "  Downloading scikit_image-0.19.3-cp38-cp38-manylinux_2_17_x86_64.manylinux2014_x86_64.whl (14.0 MB)\n",
            "     ━━━━━━━━━━━━━━━━━━━━━━━━━━━━━━━━━━━━━━━━ 14.0/14.0 MB 99.5 MB/s eta 0:00:00\n",
            "Collecting scipy==1.9.3\n",
            "  Downloading scipy-1.9.3-cp38-cp38-manylinux_2_17_x86_64.manylinux2014_x86_64.whl (33.8 MB)\n",
            "     ━━━━━━━━━━━━━━━━━━━━━━━━━━━━━━━━━━━━━━━━ 33.8/33.8 MB 19.3 MB/s eta 0:00:00\n",
            "Collecting scooby==0.7.0\n",
            "  Downloading scooby-0.7.0-py3-none-any.whl (16 kB)\n",
            "Collecting soupsieve==2.3.2.post1\n",
            "  Downloading soupsieve-2.3.2.post1-py3-none-any.whl (37 kB)\n",
            "Collecting tifffile==2022.10.10\n",
            "  Downloading tifffile-2022.10.10-py3-none-any.whl (210 kB)\n",
            "     ━━━━━━━━━━━━━━━━━━━━━━━━━━━━━━━━━━━━━━ 210.3/210.3 kB 26.3 MB/s eta 0:00:00\n",
            "Collecting tqdm==4.64.1\n",
            "  Downloading tqdm-4.64.1-py2.py3-none-any.whl (78 kB)\n",
            "     ━━━━━━━━━━━━━━━━━━━━━━━━━━━━━━━━━━━━━━━━ 78.5/78.5 kB 10.9 MB/s eta 0:00:00\n",
            "Collecting vtk==9.2.2\n",
            "  Downloading vtk-9.2.2-cp38-cp38-manylinux_2_17_x86_64.manylinux2014_x86_64.whl (79.3 MB)\n",
            "     ━━━━━━━━━━━━━━━━━━━━━━━━━━━━━━━━━━━━━━━━ 79.3/79.3 MB 12.6 MB/s eta 0:00:00\n",
            "Collecting wslink==1.9.2\n",
            "  Downloading wslink-1.9.2-py3-none-any.whl (28 kB)\n",
            "Collecting yarl==1.8.2\n",
            "  Downloading yarl-1.8.2-cp38-cp38-manylinux_2_17_x86_64.manylinux2014_x86_64.whl (262 kB)\n",
            "     ━━━━━━━━━━━━━━━━━━━━━━━━━━━━━━━━━━━━━━ 262.1/262.1 kB 25.7 MB/s eta 0:00:00\n",
            "Requirement already satisfied: charset-normalizer<3.0,>=2.0 in /usr/local/lib/python3.8/site-packages (from aiohttp==3.8.3->-r /content/condaenv.k0gg7xdw.requirements.txt (line 1)) (2.1.1)\n",
            "Requirement already satisfied: six in /usr/local/lib/python3.8/site-packages (from gdown==4.6.0->-r /content/condaenv.k0gg7xdw.requirements.txt (line 10)) (1.16.0)\n",
            "Requirement already satisfied: requests[socks] in /usr/local/lib/python3.8/site-packages (from gdown==4.6.0->-r /content/condaenv.k0gg7xdw.requirements.txt (line 10)) (2.28.1)\n",
            "Requirement already satisfied: numpy in /usr/local/lib/python3.8/site-packages (from imageio==2.22.4->-r /content/condaenv.k0gg7xdw.requirements.txt (line 11)) (1.23.5)\n",
            "Requirement already satisfied: matplotlib>=2.0.0 in /usr/local/lib/python3.8/site-packages (from vtk==9.2.2->-r /content/condaenv.k0gg7xdw.requirements.txt (line 27)) (3.6.2)\n",
            "Requirement already satisfied: idna>=2.0 in /usr/local/lib/python3.8/site-packages (from yarl==1.8.2->-r /content/condaenv.k0gg7xdw.requirements.txt (line 29)) (3.4)\n",
            "Requirement already satisfied: pyparsing>=2.2.1 in /usr/local/lib/python3.8/site-packages (from matplotlib>=2.0.0->vtk==9.2.2->-r /content/condaenv.k0gg7xdw.requirements.txt (line 27)) (3.0.9)\n",
            "Requirement already satisfied: kiwisolver>=1.0.1 in /usr/local/lib/python3.8/site-packages (from matplotlib>=2.0.0->vtk==9.2.2->-r /content/condaenv.k0gg7xdw.requirements.txt (line 27)) (1.4.4)\n",
            "Requirement already satisfied: fonttools>=4.22.0 in /usr/local/lib/python3.8/site-packages (from matplotlib>=2.0.0->vtk==9.2.2->-r /content/condaenv.k0gg7xdw.requirements.txt (line 27)) (4.38.0)\n",
            "Requirement already satisfied: contourpy>=1.0.1 in /usr/local/lib/python3.8/site-packages (from matplotlib>=2.0.0->vtk==9.2.2->-r /content/condaenv.k0gg7xdw.requirements.txt (line 27)) (1.0.6)\n",
            "Requirement already satisfied: python-dateutil>=2.7 in /usr/local/lib/python3.8/site-packages (from matplotlib>=2.0.0->vtk==9.2.2->-r /content/condaenv.k0gg7xdw.requirements.txt (line 27)) (2.8.2)\n",
            "Requirement already satisfied: cycler>=0.10 in /usr/local/lib/python3.8/site-packages (from matplotlib>=2.0.0->vtk==9.2.2->-r /content/condaenv.k0gg7xdw.requirements.txt (line 27)) (0.11.0)\n",
            "Requirement already satisfied: urllib3<1.27,>=1.21.1 in /usr/local/lib/python3.8/site-packages (from requests[socks]->gdown==4.6.0->-r /content/condaenv.k0gg7xdw.requirements.txt (line 10)) (1.26.13)\n",
            "Requirement already satisfied: certifi>=2017.4.17 in /usr/local/lib/python3.8/site-packages (from requests[socks]->gdown==4.6.0->-r /content/condaenv.k0gg7xdw.requirements.txt (line 10)) (2022.12.7)\n",
            "Requirement already satisfied: PySocks!=1.5.7,>=1.5.6 in /usr/local/lib/python3.8/site-packages (from requests[socks]->gdown==4.6.0->-r /content/condaenv.k0gg7xdw.requirements.txt (line 10)) (1.7.1)\n",
            "Building wheels for collected packages: future, obj2html\n",
            "  Building wheel for future (setup.py): started\n",
            "  Building wheel for future (setup.py): finished with status 'done'\n",
            "  Created wheel for future: filename=future-0.18.2-py3-none-any.whl size=491059 sha256=f69c589e3e0c7c7fc390139c27c822139592ff5581ff2092a24dcac624ca783f\n",
            "  Stored in directory: /root/.cache/pip/wheels/01/49/0c/4e0a697824c7bd6516afb22e1af9d51427ccd36c74b05a297e\n",
            "  Building wheel for obj2html (setup.py): started\n",
            "  Building wheel for obj2html (setup.py): finished with status 'done'\n",
            "  Created wheel for obj2html: filename=obj2html-0.14-py3-none-any.whl size=5095 sha256=2128946b30cbd8c134d9c5ed1eba48fb3391a0733d5a12167d7988aec35bfe74\n",
            "  Stored in directory: /root/.cache/pip/wheels/b6/af/f5/9197caefaa16d0c32c91ac23e29ae9a7101532faae2aff9333\n",
            "Successfully built future obj2html\n",
            "Installing collected packages: obj2html, appdirs, tqdm, tifffile, soupsieve, scooby, scipy, pywavelets, pillow, packaging, opencv-python, networkx, multidict, future, frozenlist, filelock, attrs, async-timeout, yarl, pooch, imageio, beautifulsoup4, aiosignal, scikit-image, gdown, aiohttp, wslink, vtk, pyvista\n",
            "  Attempting uninstall: pillow\n",
            "    Found existing installation: Pillow 9.2.0\n",
            "    Uninstalling Pillow-9.2.0:\n",
            "      Successfully uninstalled Pillow-9.2.0\n",
            "  Attempting uninstall: packaging\n",
            "    Found existing installation: packaging 21.3\n",
            "    Uninstalling packaging-21.3:\n",
            "      Successfully uninstalled packaging-21.3\n",
            "Successfully installed aiohttp-3.8.3 aiosignal-1.3.1 appdirs-1.4.4 async-timeout-4.0.2 attrs-22.1.0 beautifulsoup4-4.11.1 filelock-3.8.2 frozenlist-1.3.3 future-0.18.2 gdown-4.6.0 imageio-2.22.4 multidict-6.0.3 networkx-3.0rc1 obj2html-0.14 opencv-python-4.6.0.66 packaging-22.0 pillow-9.3.0 pooch-1.6.0 pyvista-0.37.0 pywavelets-1.4.1 scikit-image-0.19.3 scipy-1.9.3 scooby-0.7.0 soupsieve-2.3.2.post1 tifffile-2022.10.10 tqdm-4.64.1 vtk-9.2.2 wslink-1.9.2 yarl-1.8.2\n",
            "\n",
            "\b\bdone\n",
            "#\n",
            "# To activate this environment, use\n",
            "#\n",
            "#     $ conda activate base\n",
            "#\n",
            "# To deactivate an active environment, use\n",
            "#\n",
            "#     $ conda deactivate\n",
            "\n",
            "Retrieving notices: ...working... done\n"
          ]
        }
      ]
    },
    {
      "cell_type": "code",
      "source": [
        "!nvcc --version"
      ],
      "metadata": {
        "colab": {
          "base_uri": "https://localhost:8080/"
        },
        "id": "AYniATLHGaec",
        "outputId": "13d5177d-187a-4ca5-f831-80595f7715f3"
      },
      "execution_count": null,
      "outputs": [
        {
          "output_type": "stream",
          "name": "stdout",
          "text": [
            "nvcc: NVIDIA (R) Cuda compiler driver\n",
            "Copyright (c) 2005-2021 NVIDIA Corporation\n",
            "Built on Sun_Feb_14_21:12:58_PST_2021\n",
            "Cuda compilation tools, release 11.2, V11.2.152\n",
            "Build cuda_11.2.r11.2/compiler.29618528_0\n"
          ]
        }
      ]
    },
    {
      "cell_type": "markdown",
      "source": [
        "## Get Code and Model checkpoint"
      ],
      "metadata": {
        "id": "9EPxVznKl6HH"
      }
    },
    {
      "cell_type": "code",
      "source": [
        "!git clone https://github.com/ShichenLiu/SoftRas.git\n",
        "!cd SoftRas && /usr/local/bin/python -m pip install ."
      ],
      "metadata": {
        "id": "4H-fMPt4l6bE",
        "colab": {
          "base_uri": "https://localhost:8080/"
        },
        "outputId": "c329e51b-71fe-46ed-f2c2-be5ab8222cc7"
      },
      "execution_count": null,
      "outputs": [
        {
          "output_type": "stream",
          "name": "stdout",
          "text": [
            "Cloning into 'SoftRas'...\n",
            "remote: Enumerating objects: 286, done.\u001b[K\n",
            "remote: Counting objects: 100% (250/250), done.\u001b[K\n",
            "remote: Compressing objects: 100% (107/107), done.\u001b[K\n",
            "remote: Total 286 (delta 141), reused 233 (delta 139), pack-reused 36\u001b[K\n",
            "Receiving objects: 100% (286/286), 10.73 MiB | 14.57 MiB/s, done.\n",
            "Resolving deltas: 100% (141/141), done.\n",
            "Looking in indexes: https://pypi.org/simple, https://us-python.pkg.dev/colab-wheels/public/simple/\n",
            "Processing /content/SoftRas\n",
            "  Preparing metadata (setup.py) ... \u001b[?25l\u001b[?25hdone\n",
            "Requirement already satisfied: numpy in /usr/local/lib/python3.8/site-packages (from soft-renderer==1.0.0) (1.23.5)\n",
            "Requirement already satisfied: torch in /usr/local/lib/python3.8/site-packages (from soft-renderer==1.0.0) (1.6.0)\n",
            "Requirement already satisfied: torchvision in /usr/local/lib/python3.8/site-packages (from soft-renderer==1.0.0) (0.7.0)\n",
            "Requirement already satisfied: scikit-image in /usr/local/lib/python3.8/site-packages (from soft-renderer==1.0.0) (0.19.3)\n",
            "Requirement already satisfied: tqdm in /usr/local/lib/python3.8/site-packages (from soft-renderer==1.0.0) (4.64.1)\n",
            "Requirement already satisfied: imageio in /usr/local/lib/python3.8/site-packages (from soft-renderer==1.0.0) (2.22.4)\n",
            "Requirement already satisfied: pillow>=8.3.2 in /usr/local/lib/python3.8/site-packages (from imageio->soft-renderer==1.0.0) (9.3.0)\n",
            "Requirement already satisfied: scipy>=1.4.1 in /usr/local/lib/python3.8/site-packages (from scikit-image->soft-renderer==1.0.0) (1.9.3)\n",
            "Requirement already satisfied: PyWavelets>=1.1.1 in /usr/local/lib/python3.8/site-packages (from scikit-image->soft-renderer==1.0.0) (1.4.1)\n",
            "Requirement already satisfied: tifffile>=2019.7.26 in /usr/local/lib/python3.8/site-packages (from scikit-image->soft-renderer==1.0.0) (2022.10.10)\n",
            "Requirement already satisfied: networkx>=2.2 in /usr/local/lib/python3.8/site-packages (from scikit-image->soft-renderer==1.0.0) (3.0rc1)\n",
            "Requirement already satisfied: packaging>=20.0 in /usr/local/lib/python3.8/site-packages (from scikit-image->soft-renderer==1.0.0) (22.0)\n",
            "Requirement already satisfied: future in /usr/local/lib/python3.8/site-packages (from torch->soft-renderer==1.0.0) (0.18.2)\n",
            "Building wheels for collected packages: soft-renderer\n",
            "  Building wheel for soft-renderer (setup.py) ... \u001b[?25l\u001b[?25hdone\n",
            "  Created wheel for soft-renderer: filename=soft_renderer-1.0.0-cp38-cp38-linux_x86_64.whl size=553737 sha256=967052a9f8b688731b664e0ab23ea238b26043e28c1a5c6fd98eba9de55846a9\n",
            "  Stored in directory: /tmp/pip-ephem-wheel-cache-rzmkff8a/wheels/ac/46/ee/fcbf77e759bea54b02554a5f3a862d514a4974d1038e94c232\n",
            "Successfully built soft-renderer\n",
            "Installing collected packages: soft-renderer\n",
            "Successfully installed soft-renderer-1.0.0\n",
            "\u001b[33mWARNING: Running pip as the 'root' user can result in broken permissions and conflicting behaviour with the system package manager. It is recommended to use a virtual environment instead: https://pip.pypa.io/warnings/venv\u001b[0m\u001b[33m\n",
            "\u001b[0m"
          ]
        }
      ]
    },
    {
      "cell_type": "code",
      "source": [
        "!gdown 1r63AKNn3ecMho6RFE7gFefRv78Pmbe5h"
      ],
      "metadata": {
        "colab": {
          "base_uri": "https://localhost:8080/"
        },
        "id": "Iyuve0XgKXei",
        "outputId": "1a337c11-b039-4bab-a28e-ce1f1932f012"
      },
      "execution_count": null,
      "outputs": [
        {
          "output_type": "stream",
          "name": "stdout",
          "text": [
            "Downloading...\n",
            "From: https://drive.google.com/uc?id=1r63AKNn3ecMho6RFE7gFefRv78Pmbe5h\n",
            "To: /content/softras_shading_checkpoint.pth.tar\n",
            "100% 108M/108M [00:03<00:00, 34.7MB/s] \n"
          ]
        }
      ]
    },
    {
      "cell_type": "markdown",
      "source": [
        "## Demo"
      ],
      "metadata": {
        "id": "hJ51EB4fl6zb"
      }
    },
    {
      "cell_type": "markdown",
      "source": [
        "### Import Everything"
      ],
      "metadata": {
        "id": "H5fgZoF6NWKT"
      }
    },
    {
      "cell_type": "code",
      "source": [
        "import torch\n",
        "import torch.nn.parallel\n",
        "import soft_renderer as sr\n",
        "import soft_renderer.functional as srf\n",
        "import matplotlib.image as mpimg\n",
        "from SoftRas.examples.recon import models\n",
        "from SoftRas.examples.recon import models_large\n",
        "import os\n",
        "import imageio\n",
        "import numpy as np"
      ],
      "metadata": {
        "colab": {
          "base_uri": "https://localhost:8080/"
        },
        "id": "-ugMFdRF8dQB",
        "outputId": "e5c34673-9541-4bfd-b09d-da248c92958f"
      },
      "execution_count": null,
      "outputs": [
        {
          "output_type": "stream",
          "name": "stderr",
          "text": [
            "/usr/local/lib/python3.8/site-packages/skimage/io/manage_plugins.py:23: UserWarning: Your installed pillow version is < 8.1.2. Several security issues (CVE-2021-27921, CVE-2021-25290, CVE-2021-25291, CVE-2021-25293, and more) have been fixed in pillow 8.1.2 or higher. We recommend to upgrade this library.\n",
            "  from .collection import imread_collection_wrapper\n"
          ]
        }
      ]
    },
    {
      "cell_type": "markdown",
      "source": [
        "### Helper Functions"
      ],
      "metadata": {
        "id": "SvRrEL1gOAXv"
      }
    },
    {
      "cell_type": "code",
      "source": [
        "class AverageMeter(object):\n",
        "    \"\"\"Computes and stores the average and current value\"\"\"\n",
        "    def __init__(self):\n",
        "        self.reset()\n",
        "\n",
        "    def reset(self):\n",
        "        self.val = 0\n",
        "        self.avg = 0\n",
        "        self.sum = 0\n",
        "        self.count = 0\n",
        "\n",
        "    def update(self, val, n=1):\n",
        "        self.val = val\n",
        "        self.sum += val * n\n",
        "        self.count += n\n",
        "        self.avg = self.sum / self.count\n",
        "\n",
        "\n",
        "def img_cvt(images):\n",
        "    return (255. * images).detach().cpu().numpy().clip(0, 255).astype('uint8').transpose(1, 2, 0)\n",
        "\n",
        "def rev_img(image):\n",
        "    return torch.from_numpy(image.transpose(2,0,1).astype('float32'))     "
      ],
      "metadata": {
        "id": "QtIBs59WKn0e"
      },
      "execution_count": null,
      "outputs": []
    },
    {
      "cell_type": "code",
      "source": [
        "IMAGE_SIZE = 64\n",
        "CLASS_IDS_ALL = (\n",
        "    '02691156,02828884,02933112,02958343,03001627,03211117,03636649,' +\n",
        "    '03691459,04090263,04256520,04379243,04401088,04530566')\n",
        "\n",
        "MODEL_DIRECTORY = '/content/softras_shading_checkpoint.pth.tar'\n",
        "\n",
        "SHADING = True\n",
        "SIGMA_VAL = 0.01\n",
        "IMAGE_PATH = '/content/test.png'\n",
        "OBJ_PATH = '/content/test.obj'"
      ],
      "metadata": {
        "id": "SKffYM3bODc8"
      },
      "execution_count": null,
      "outputs": []
    },
    {
      "cell_type": "code",
      "source": [
        "class Args:\n",
        "    image_size = IMAGE_SIZE\n",
        "    sigma_val = SIGMA_VAL\n",
        "\n",
        "args=Args()"
      ],
      "metadata": {
        "id": "qOcnZ0lkOJ0p"
      },
      "execution_count": null,
      "outputs": []
    },
    {
      "cell_type": "markdown",
      "source": [
        "### Visualize input image"
      ],
      "metadata": {
        "id": "1b3aWV67OeCE"
      }
    },
    {
      "cell_type": "code",
      "source": [
        "from PIL import Image\n",
        "im = Image.open(IMAGE_PATH)\n",
        "im = im.resize((IMAGE_SIZE, IMAGE_SIZE), Image.ANTIALIAS)\n",
        "im.save(IMAGE_PATH)"
      ],
      "metadata": {
        "id": "CIpiVpmjOKjs"
      },
      "execution_count": null,
      "outputs": []
    },
    {
      "cell_type": "code",
      "source": [
        "import matplotlib.pyplot as plt\n",
        "\n",
        "im = mpimg.imread(IMAGE_PATH)\n",
        "plt.imshow(im)"
      ],
      "metadata": {
        "colab": {
          "base_uri": "https://localhost:8080/",
          "height": 286
        },
        "id": "jMqZFgGkOM39",
        "outputId": "09570926-f59a-4daa-db42-d3daf9ffdcfe"
      },
      "execution_count": null,
      "outputs": [
        {
          "output_type": "execute_result",
          "data": {
            "text/plain": [
              "<matplotlib.image.AxesImage at 0x7f25ad82a130>"
            ]
          },
          "metadata": {},
          "execution_count": 12
        },
        {
          "output_type": "display_data",
          "data": {
            "text/plain": [
              "<Figure size 432x288 with 1 Axes>"
            ],
            "image/png": "[encoded data removed]"
          },
          "metadata": {
            "needs_background": "light"
          }
        }
      ]
    },
    {
      "cell_type": "markdown",
      "source": [
        "### Import pretrained Model and Generate obj"
      ],
      "metadata": {
        "id": "NppcmHr2OatJ"
      }
    },
    {
      "cell_type": "code",
      "source": [
        "if SHADING:\n",
        "    model = models_large.Model('SoftRas/data/obj/sphere/sphere_642.obj', args=args)\n",
        "else:\n",
        "    model = models.Model('SoftRas/data/obj/sphere/sphere_642.obj', args=args)\n",
        "\n",
        "model = model.cuda()\n",
        "state_dicts = torch.load(MODEL_DIRECTORY)\n",
        "\n",
        "model.load_state_dict(state_dicts['model'], strict=True)\n",
        "model.eval()"
      ],
      "metadata": {
        "colab": {
          "base_uri": "https://localhost:8080/"
        },
        "id": "-UFDsrKHORCD",
        "outputId": "6abf3a67-8f58-4862-cbf2-12a228d77222"
      },
      "execution_count": null,
      "outputs": [
        {
          "output_type": "execute_result",
          "data": {
            "text/plain": [
              "Model(\n",
              "  (encoder): Encoder(\n",
              "    (conv1): Conv2d(4, 64, kernel_size=(5, 5), stride=(2, 2), padding=(2, 2))\n",
              "    (conv2): Conv2d(64, 128, kernel_size=(5, 5), stride=(2, 2), padding=(2, 2))\n",
              "    (conv3): Conv2d(128, 256, kernel_size=(5, 5), stride=(2, 2), padding=(2, 2))\n",
              "    (conv4): Conv2d(64, 64, kernel_size=(5, 5), stride=(1, 1), padding=(2, 2))\n",
              "    (conv5): Conv2d(128, 128, kernel_size=(5, 5), stride=(1, 1), padding=(2, 2))\n",
              "    (bn1): BatchNorm2d(64, eps=1e-05, momentum=0.1, affine=True, track_running_stats=True)\n",
              "    (bn2): BatchNorm2d(128, eps=1e-05, momentum=0.1, affine=True, track_running_stats=True)\n",
              "    (bn3): BatchNorm2d(256, eps=1e-05, momentum=0.1, affine=True, track_running_stats=True)\n",
              "    (bn4): BatchNorm2d(64, eps=1e-05, momentum=0.1, affine=True, track_running_stats=True)\n",
              "    (bn5): BatchNorm2d(128, eps=1e-05, momentum=0.1, affine=True, track_running_stats=True)\n",
              "    (fc1): Linear(in_features=16384, out_features=1024, bias=True)\n",
              "    (fc2): Linear(in_features=1024, out_features=1024, bias=True)\n",
              "    (fc3): Linear(in_features=1024, out_features=512, bias=True)\n",
              "  )\n",
              "  (decoder): Decoder(\n",
              "    (fc1): Linear(in_features=512, out_features=1024, bias=True)\n",
              "    (fc2): Linear(in_features=1024, out_features=2048, bias=True)\n",
              "    (fc_centroid): Linear(in_features=2048, out_features=3, bias=True)\n",
              "    (fc_bias): Linear(in_features=2048, out_features=1926, bias=True)\n",
              "  )\n",
              "  (transform): LookAt()\n",
              "  (lighting): Lighting(\n",
              "    (ambient): AmbientLighting()\n",
              "    (directionals): ModuleList(\n",
              "      (0): DirectionalLighting()\n",
              "    )\n",
              "  )\n",
              "  (rasterizer): SoftRasterizer()\n",
              "  (laplacian_loss): LaplacianLoss()\n",
              "  (flatten_loss): FlattenLoss()\n",
              ")"
            ]
          },
          "metadata": {},
          "execution_count": 13
        }
      ]
    },
    {
      "cell_type": "code",
      "source": [
        "image = rev_img(im).reshape(-1,4,64,64)\n",
        "image = torch.autograd.Variable(image).cuda()\n",
        "print(image.shape)"
      ],
      "metadata": {
        "colab": {
          "base_uri": "https://localhost:8080/"
        },
        "id": "jZVcnmQuOSy4",
        "outputId": "015e967f-5761-4fff-cb15-a7971e373d24"
      },
      "execution_count": null,
      "outputs": [
        {
          "output_type": "stream",
          "name": "stdout",
          "text": [
            "torch.Size([1, 4, 64, 64])\n"
          ]
        }
      ]
    },
    {
      "cell_type": "code",
      "source": [
        "vertices, faces = model.reconstruct(image)\n",
        "srf.save_obj(OBJ_PATH, vertices[0], faces[0])\n"
      ],
      "metadata": {
        "id": "XisjUZycOT8w"
      },
      "execution_count": null,
      "outputs": []
    },
    {
      "cell_type": "markdown",
      "source": [
        "\n",
        "### Visualize OBJ\n"
      ],
      "metadata": {
        "id": "LE0FxhmdOXjk"
      }
    },
    {
      "cell_type": "code",
      "source": [
        "from obj2html import obj2html\n",
        "from IPython.display import display, HTML\n",
        "\n",
        "obj2html(OBJ_PATH, 'index.html')\n",
        "\n",
        "display(HTML('index.html'))"
      ],
      "metadata": {
        "colab": {
          "base_uri": "https://localhost:8080/",
          "height": 171
        },
        "id": "lm8DwE8NOT3b",
        "outputId": "ff0ba6dd-0eb8-4c4a-88a0-ffa28e22050e"
      },
      "execution_count": null,
      "outputs": [
        {
          "output_type": "display_data",
          "data": {
            "text/plain": [
              "<IPython.core.display.HTML object>"
            ],
            "text/html": [
              "<!DOCTYPE html>\n",
              "<html lang=\"\">\n",
              "  <head>\n",
              "    <meta charset=\"utf-8\">\n",
              "    <title></title>\n",
              "\n",
              "    <script type=\"module\">\n",
              "        var obj_3d = {\"obj\": \"# test.obj\\n\\n#\\n\\n\\n\\nv -0.00333298 -0.02636725 -0.03607170\\n\\nv 0.02683362 -0.02506366 0.03887389\\n\\nv -0.01346587 -0.00855617 0.19220518\\n\\nv -0.12723118 -0.02516589 -0.03607170\\n\\nv -0.04023531 -0.04611286 -0.22897042\\n\\nv 0.16025679 -0.03258317 -0.10494433\\n\\nv 0.04217266 0.04815971 0.37748045\\n\\nv -0.04124969 0.05020551 0.11154778\\n\\nv -0.40859863 0.03964521 -0.21420048\\n\\nv 0.04821882 0.01456675 -0.27257925\\n\\nv 0.11112462 0.02355891 -0.03607170\\n\\nv -0.00333298 0.07457615 -0.03607170\\n\\nv -0.01418987 -0.01358476 0.15574379\\n\\nv -0.02027027 -0.02469289 0.12247489\\n\\nv -0.01782710 -0.02486326 0.08159911\\n\\nv -0.01365442 -0.02499441 0.03620742\\n\\nv -0.01140741 -0.02989491 0.01021331\\n\\nv -0.01049672 -0.04060812 -0.00773180\\n\\nv -0.00687812 -0.02822007 -0.02321876\\n\\nv 0.00541709 -0.02910288 -0.02811795\\n\\nv 0.00785394 -0.03715556 -0.01748667\\n\\nv 0.01342913 -0.04174636 -0.01106645\\n\\nv 0.01389905 -0.03052527 -0.00592169\\n\\nv 0.01693884 -0.04283926 0.00598931\\n\\nv 0.02187679 -0.03826471 0.01384569\\n\\nv 0.02105723 -0.03503784 0.02079611\\n\\nv 0.02222208 -0.02528892 0.06430267\\n\\nv 0.01834361 -0.02283424 0.09782247\\n\\nv 0.01679445 -0.02552412 0.13458322\\n\\nv 0.00967620 -0.01645553 0.15667748\\n\\nv 0.00321052 -0.01275036 0.18554637\\n\\nv -0.00475799 -0.01711542 0.17864527\\n\\nv -0.00965114 -0.00927703 0.17784354\\n\\nv 0.15380238 -0.03332382 -0.09354715\\n\\nv 0.14220044 -0.03153530 -0.07614392\\n\\nv 0.12890929 -0.03294795 -0.05753233\\n\\nv 0.10640179 -0.03016536 -0.03607170\\n\\nv 0.07617512 -0.02776450 -0.02487328\\n\\nv 0.04551243 -0.02839896 -0.00924205\\n\\nv 0.03417125 -0.03184876 0.01078435\\n\\nv 0.00604377 -0.02679003 -0.04618346\\n\\nv 0.01264297 -0.02481659 -0.06373890\\n\\nv 0.03026788 -0.02661792 -0.08099265\\n\\nv 0.04555330 -0.02534526 -0.08854537\\n\\nv 0.06364166 -0.03051274 -0.10620586\\n\\nv 0.08227317 -0.03822276 -0.11257310\\n\\nv 0.12126938 -0.04500421 -0.10631400\\n\\nv -0.10605413 -0.02865752 -0.03607170\\n\\nv -0.08249009 -0.03095503 -0.03607170\\n\\nv -0.06450576 -0.02630453 -0.03607170\\n\\nv -0.04361042 -0.02570445 -0.03607170\\n\\nv -0.03417450 -0.02795763 -0.03607170\\n\\nv -0.02428053 -0.02904996 -0.03607170\\n\\nv -0.01412615 -0.03003937 -0.03607170\\n\\nv -0.02037920 -0.01408325 0.16168542\\n\\nv -0.02380856 -0.02157321 0.12766019\\n\\nv -0.02904465 -0.02964539 0.08201949\\n\\nv -0.03276397 -0.03720293 0.04109208\\n\\nv -0.04100214 -0.03270111 0.00425016\\n\\nv -0.05839152 -0.02947382 -0.01281214\\n\\nv -0.09380156 -0.02613248 -0.02554104\\n\\nv -0.03535262 -0.05006734 -0.20798694\\n\\nv -0.03524745 -0.03434257 -0.18240917\\n\\nv -0.03505712 -0.02419858 -0.15946457\\n\\nv -0.02517503 -0.02050664 -0.12360734\\n\\nv -0.02090013 -0.02206332 -0.10236669\\n\\nv -0.01557695 -0.01502228 -0.07980914\\n\\nv -0.00797692 -0.02331564 -0.05210032\\n\\nv -0.14657412 -0.02470613 -0.04973970\\n\\nv -0.14170945 -0.02499345 -0.07008415\\n\\nv -0.12544447 -0.03042758 -0.09803208\\n\\nv -0.11922655 -0.03670177 -0.12140435\\n\\nv -0.10474095 -0.05123852 -0.13037759\\n\\nv -0.07927210 -0.05607712 -0.16668166\\n\\nv -0.06072327 -0.04747930 -0.20258094\\n\\nv -0.02325013 -0.04563379 -0.26747555\\n\\nv -0.00391334 -0.03965706 -0.28396982\\n\\nv 0.00679791 -0.06088977 -0.24725911\\n\\nv 0.03191654 -0.04402412 -0.20533487\\n\\nv 0.05907719 -0.05224732 -0.18475370\\n\\nv 0.08772805 -0.04100016 -0.14865658\\n\\nv 0.12806416 -0.04665240 -0.12374166\\n\\nv 0.10965268 0.02284822 -0.03342399\\n\\nv 0.11357845 0.00747193 -0.02454686\\n\\nv 0.08436535 0.00910508 -0.01243369\\n\\nv 0.06069745 0.00038205 0.00000669\\n\\nv 0.04341694 -0.00749587 0.02477785\\n\\nv 0.03763356 -0.00818968 0.02340176\\n\\nv 0.03083516 -0.02405695 0.03213869\\n\\nv 0.18571030 -0.01520660 -0.10508753\\n\\nv 0.25665420 -0.01070409 -0.09725101\\n\\nv 0.32242680 -0.00419153 -0.08876346\\n\\nv 0.36755219 0.00038205 -0.07438736\\n\\nv 0.34175992 0.01861624 -0.04647581\\n\\nv 0.27249062 0.02414577 -0.04423538\\n\\nv 0.18232052 0.03919540 -0.04780393\\n\\nv 0.06258774 0.04315004 0.38978922\\n\\nv 0.04937290 0.04779454 0.37534148\\n\\nv 0.01460993 0.01857302 0.37809682\\n\\nv -0.00333298 0.00038205 0.36771655\\n\\nv -0.00989917 -0.00282037 0.35681593\\n\\nv -0.01052706 -0.00419463 0.29317594\\n\\nv -0.01150325 -0.00438942 0.23162939\\n\\nv 0.02711587 -0.01888130 0.07176960\\n\\nv 0.02491269 -0.00875248 0.13657409\\n\\nv 0.01974570 -0.00251237 0.21665926\\n\\nv 0.01600426 0.00038205 0.27932495\\n\\nv 0.05695625 0.03923281 0.29021662\\n\\nv 0.13607837 0.05381249 0.30075508\\n\\nv 0.11352257 0.05929926 0.36310172\\n\\nv -0.03981952 0.02253727 0.08301108\\n\\nv -0.03999446 0.02783669 0.04064158\\n\\nv -0.05215488 0.00882841 0.01866114\\n\\nv -0.06294306 0.00038205 -0.00089882\\n\\nv -0.07899194 -0.00704181 -0.00883244\\n\\nv -0.10982516 -0.01294623 -0.01822063\\n\\nv -0.12686563 -0.02218557 -0.02798961\\n\\nv -0.01642118 -0.00948707 0.21409757\\n\\nv -0.01792357 -0.00438242 0.25153595\\n\\nv -0.01788437 -0.00122599 0.29168504\\n\\nv -0.01914150 0.00038205 0.27790076\\n\\nv -0.03297439 0.02195241 0.24430813\\n\\nv -0.03292230 0.04082237 0.20025226\\n\\nv -0.04306198 0.02961379 0.15274671\\n\\nv -0.44923300 0.06161011 -0.16081792\\n\\nv -0.38295826 0.02951422 -0.23582585\\n\\nv -0.27720454 0.02422518 -0.23726586\\n\\nv -0.16134576 0.00038205 -0.22704522\\n\\nv -0.08694444 -0.01665399 -0.22236151\\n\\nv -0.05278058 -0.01822943 -0.22752579\\n\\nv -0.04661594 -0.03596160 -0.24027519\\n\\nv -0.17418900 -0.01881465 -0.04396546\\n\\nv -0.24147661 -0.00974461 -0.04604069\\n\\nv -0.31519908 -0.00097986 -0.05176006\\n\\nv -0.38702810 0.00038205 -0.08439432\\n\\nv -0.47339830 0.01605537 -0.09425811\\n\\nv -0.48815626 0.02292801 -0.13880754\\n\\nv -0.46900997 0.04034751 -0.23093079\\n\\nv 0.05083746 0.01323936 -0.19001864\\n\\nv 0.15807204 0.02903548 -0.10592443\\n\\nv 0.24141477 0.03302666 -0.20297863\\n\\nv 0.24269807 0.00038205 -0.22370923\\n\\nv 0.21146855 -0.00996534 -0.19327399\\n\\nv 0.19876522 -0.02037615 -0.16922441\\n\\nv 0.16178438 -0.03010733 -0.12259550\\n\\nv -0.02600228 -0.05501159 -0.29925227\\n\\nv -0.03416349 -0.05513558 -0.35267168\\n\\nv -0.04988790 -0.03607826 -0.37919909\\n\\nv -0.00333298 0.00038205 -0.38776237\\n\\nv 0.05193474 0.02504759 -0.36299336\\n\\nv 0.04085916 0.08073146 -0.35125059\\n\\nv 0.01494621 0.01462964 -0.29221576\\n\\nv 0.06985998 0.02568706 -0.02327775\\n\\nv 0.05089566 0.03784419 0.00268702\\n\\nv 0.03567439 0.05113481 0.05585874\\n\\nv 0.03069123 0.07162891 0.12494557\\n\\nv 0.02508134 0.08348159 0.18271564\\n\\nv 0.02190297 0.07715784 0.24389513\\n\\nv 0.03444931 0.05221589 0.33203244\\n\\nv -0.00211094 0.05098264 0.39619172\\n\\nv -0.00331570 0.11430797 0.38703001\\n\\nv -0.00379869 0.11753356 0.35740274\\n\\nv -0.00827666 0.06886761 0.31418216\\n\\nv -0.02766248 0.04842025 0.25962669\\n\\nv -0.03003128 0.06459420 0.22944297\\n\\nv -0.04565861 0.06803250 0.17456743\\n\\nv -0.04307004 0.05197920 0.06711016\\n\\nv -0.04904123 0.04608662 0.01280212\\n\\nv -0.05493967 0.03609313 -0.01772626\\n\\nv -0.10526580 0.02044817 -0.03607170\\n\\nv -0.19644360 0.02385941 -0.05295931\\n\\nv -0.30467811 0.03941255 -0.14944710\\n\\nv -0.36763364 0.03309662 -0.22203150\\n\\nv -0.33162880 0.03367833 -0.09102714\\n\\nv -0.19548441 0.03437007 -0.09928679\\n\\nv -0.08095352 0.04394530 -0.20723179\\n\\nv -0.04951666 0.06357516 -0.30118060\\n\\nv -0.01864309 0.07117852 -0.34895796\\n\\nv 0.02578018 0.07811011 -0.35843164\\n\\nv 0.04447515 0.03362041 -0.32596159\\n\\nv 0.09760614 0.01900578 -0.24387605\\n\\nv 0.20371807 0.03288449 -0.25248647\\n\\nv 0.30566040 0.03563958 -0.23891146\\n\\nv 0.36039609 0.03348946 -0.16642891\\n\\nv 0.32905757 0.02986601 -0.06432983\\n\\nv 0.23592086 0.03394875 -0.06430723\\n\\nv 0.16965821 0.02632098 -0.04793356\\n\\nv -0.00098991 0.06049387 0.00222962\\n\\nv 0.00466687 0.06970232 0.07810295\\n\\nv 0.01110922 0.05566900 0.18591447\\n\\nv 0.01605868 0.05238545 0.22336541\\n\\nv 0.01565876 0.04964009 0.26057595\\n\\nv 0.00914570 0.04945904 0.29515278\\n\\nv 0.00849948 0.03540421 0.35997254\\n\\nv 0.09355675 0.02325118 -0.03607170\\n\\nv 0.06852812 0.03797377 -0.03607170\\n\\nv 0.06077170 0.06568529 -0.03607170\\n\\nv 0.04512202 0.07383054 -0.03607170\\n\\nv 0.03146569 0.08342824 -0.03607170\\n\\nv 0.02285422 0.08608128 -0.03607170\\n\\nv 0.00810200 0.07814043 -0.03607170\\n\\nv -0.01311953 0.05842828 -0.01573301\\n\\nv -0.02958333 0.07908817 0.03733866\\n\\nv -0.03648284 0.06346569 0.06391532\\n\\nv -0.04350819 0.06738978 0.07937426\\n\\nv -0.05934431 0.08243938 0.09019627\\n\\nv -0.04672874 0.09236637 0.09782641\\n\\nv -0.04247021 0.07350038 0.11101952\\n\\nv -0.01491855 0.08834587 -0.06293693\\n\\nv -0.04478443 0.10101537 -0.10243151\\n\\nv -0.06367280 0.08917577 -0.13444467\\n\\nv -0.06231048 0.07625348 -0.14192244\\n\\nv -0.10108479 0.03888237 -0.18956777\\n\\nv -0.17525585 0.02611166 -0.24118984\\n\\nv -0.29489043 0.02988752 -0.23583183\\n\\nv 0.00477912 0.09785592 -0.07209016\\n\\nv 0.01538313 0.10542779 -0.10382729\\n\\nv 0.02440276 0.09003257 -0.17266928\\n\\nv 0.02220667 0.11234683 -0.23096901\\n\\nv 0.02576008 0.10349499 -0.26253048\\n\\nv 0.03656377 0.07835270 -0.27784577\\n\\nv 0.05773153 0.05285535 -0.28583616\\n\\nv 0.02313345 0.09193553 -0.08350093\\n\\nv 0.04465393 0.07578637 -0.08316586\\n\\nv 0.04462854 0.09682778 -0.13503253\\n\\nv 0.05005531 0.06198879 -0.07096185\\n\\nv 0.06386472 0.06578566 -0.13216642\\n\\nv 0.03967140 0.09321136 -0.15982495\\n\\nv 0.06883602 0.06364327 -0.06653395\\n\\nv 0.09871420 0.05057152 -0.11010535\\n\\nv 0.07489587 0.06398048 -0.15378939\\n\\nv 0.04814359 0.09780458 -0.20140848\\n\\nv 0.08581472 0.03422014 -0.05877788\\n\\nv 0.16149439 0.04218131 -0.09667322\\n\\nv 0.20421095 0.04984434 -0.14943919\\n\\nv 0.11740325 0.05677038 -0.18688478\\n\\nv 0.07210854 0.05369037 -0.23309506\\n\\nv 0.13033320 0.02883331 -0.05708129\\n\\nv 0.20417157 0.03105169 -0.06380135\\n\\nv 0.27573684 0.03821923 -0.11930270\\n\\nv 0.25406191 0.03808533 -0.18288682\\n\\nv 0.17599693 0.04064064 -0.22886965\\n\\nv 0.09469186 0.03779260 -0.25331283\\n\\nv -0.01704754 0.11151920 -0.09926908\\n\\nv -0.00662700 0.10114108 -0.16574308\\n\\nv -0.03881703 0.10869211 -0.15877961\\n\\nv 0.00191302 0.11060151 -0.24151227\\n\\nv -0.02126052 0.09636796 -0.21635963\\n\\nv -0.04700401 0.09955071 -0.15701884\\n\\nv 0.00461676 0.10755345 -0.27735323\\n\\nv -0.01419017 0.10571137 -0.26438120\\n\\nv -0.04077705 0.09548165 -0.19934756\\n\\nv -0.07079978 0.06735521 -0.15306987\\n\\nv 0.00850289 0.09941348 -0.29120708\\n\\nv -0.00880688 0.10373624 -0.29108918\\n\\nv -0.03165880 0.09374037 -0.24519590\\n\\nv -0.06932607 0.08217791 -0.17781433\\n\\nv -0.11487290 0.04551120 -0.17608993\\n\\nv 0.03087606 0.08000651 -0.31442875\\n\\nv -0.00343065 0.08567303 -0.32113194\\n\\nv -0.02392576 0.09450869 -0.29773748\\n\\nv -0.04985143 0.07907055 -0.22475278\\n\\nv -0.09679791 0.04428580 -0.13289477\\n\\nv -0.20197952 0.03404350 -0.15583703\\n\\nv -0.02413329 0.08830850 -0.03607170\\n\\nv -0.05344721 0.09937316 -0.06294224\\n\\nv -0.03511225 0.09152047 0.00383625\\n\\nv -0.06274755 0.08773091 -0.10202692\\n\\nv -0.05032736 0.08260413 -0.03607170\\n\\nv -0.04395133 0.07319652 0.01734640\\n\\nv -0.09777109 0.06696407 -0.14584096\\n\\nv -0.06848655 0.08685057 -0.07245866\\n\\nv -0.05318785 0.08628932 -0.01839975\\n\\nv -0.05304121 0.08966413 0.03460532\\n\\nv -0.16463046 0.03325373 -0.19055584\\n\\nv -0.09494507 0.04956409 -0.11341951\\n\\nv -0.07090934 0.07325800 -0.03607170\\n\\nv -0.05703160 0.08223718 -0.00298194\\n\\nv -0.06100697 0.09849075 0.03814412\\n\\nv -0.26016614 0.02688239 -0.22906931\\n\\nv -0.18714014 0.03721873 -0.14080687\\n\\nv -0.09372313 0.03227982 -0.05834478\\n\\nv -0.06477538 0.05292521 -0.02403634\\n\\nv -0.05353546 0.06585322 0.00414077\\n\\nv -0.04647523 0.07071678 0.04203975\\n\\nv -0.00881901 0.05883731 0.03724347\\n\\nv -0.02210884 0.05901787 0.09162372\\n\\nv -0.00404126 0.05229536 0.16854632\\n\\nv -0.03271917 0.06008726 0.11577637\\n\\nv -0.01130392 0.05636582 0.19266666\\n\\nv 0.00015847 0.05418532 0.24399228\\n\\nv -0.04368391 0.05560061 0.11287445\\n\\nv -0.02221984 0.05905130 0.18423566\\n\\nv -0.00709950 0.06342946 0.24891676\\n\\nv 0.00196522 0.06371074 0.27082467\\n\\nv -0.05176713 0.07481841 0.13149658\\n\\nv -0.02605373 0.06284920 0.18506853\\n\\nv -0.01432209 0.07016507 0.25145316\\n\\nv -0.00547574 0.08397075 0.27912450\\n\\nv -0.00127671 0.07509877 0.29182804\\n\\nv -0.03657476 0.08747799 0.16648875\\n\\nv -0.03186890 0.06868358 0.20139454\\n\\nv -0.01581050 0.06804077 0.25811553\\n\\nv -0.00583541 0.08042575 0.30010504\\n\\nv -0.00387552 0.10717349 0.30985099\\n\\nv -0.00276591 0.07831245 0.35348016\\n\\nv 0.01694694 0.07543626 0.04260641\\n\\nv 0.02850330 0.07287410 0.10885264\\n\\nv 0.02544466 0.07666837 0.02757572\\n\\nv 0.02345419 0.05681903 0.16141704\\n\\nv 0.02778371 0.07506501 0.09412165\\n\\nv 0.03873623 0.07819605 0.02073231\\n\\nv 0.02896165 0.05662696 0.20252416\\n\\nv 0.03692849 0.06001141 0.13906310\\n\\nv 0.03770189 0.08317876 0.07799704\\n\\nv 0.05244038 0.07936161 0.01199045\\n\\nv 0.02400769 0.04759426 0.24496658\\n\\nv 0.03684018 0.05260035 0.17643566\\n\\nv 0.04255361 0.06961082 0.12088810\\n\\nv 0.05365952 0.08612320 0.05401580\\n\\nv 0.06248075 0.05927832 -0.00563646\\n\\nv 0.01923952 0.03639445 0.28982693\\n\\nv 0.02841102 0.05622388 0.21077459\\n\\nv 0.03087320 0.08306840 0.15398589\\n\\nv 0.03390787 0.08874067 0.09043673\\n\\nv 0.04878559 0.06227249 0.01737922\\n\\nv 0.06308988 0.04137641 -0.01880978\\n\\nv 0.27193317 0.03304298 -0.05100696\\n\\nv 0.37132603 0.02607525 -0.05590106\\n\\nv 0.36736575 0.03380299 -0.06790809\\n\\nv 0.42639756 0.02002173 -0.06777056\\n\\nv 0.45914453 0.02626802 -0.09042075\\n\\nv 0.44163516 0.04100925 -0.10537347\\n\\nv 0.40548155 0.00038205 -0.14420345\\n\\nv 0.48535231 0.01517295 -0.12324841\\n\\nv 0.49120080 0.02691787 -0.18081902\\n\\nv 0.44399247 0.04054405 -0.22953196\\n\\nv 0.32353503 -0.00782100 -0.11234316\\n\\nv 0.40775955 0.00038205 -0.12422638\\n\\nv 0.48979077 0.01782472 -0.22135162\\n\\nv 0.47619921 0.02732409 -0.23050493\\n\\nv 0.35422939 0.03344464 -0.23608036\\n\\nv 0.22853079 -0.00836762 -0.11319813\\n\\nv 0.29180557 -0.00779848 -0.14735347\\n\\nv 0.36756486 0.00038205 -0.21307516\\n\\nv 0.39524445 0.02382246 -0.23407651\\n\\nv 0.34195730 0.03811903 -0.14246628\\n\\nv 0.19955496 0.02390844 -0.17916271\\n\\nv 0.05183223 0.04034141 -0.37541741\\n\\nv -0.00161786 0.03460974 -0.41237479\\n\\nv -0.00400644 0.09658942 -0.37933451\\n\\nv -0.04198602 0.02162508 -0.37084442\\n\\nv -0.05285363 0.06195617 -0.37422419\\n\\nv -0.03872216 0.02314902 -0.36012661\\n\\nv -0.05905382 0.00038205 -0.35649943\\n\\nv -0.06135797 0.02760892 -0.32468039\\n\\nv -0.06198518 0.05206852 -0.30257809\\n\\nv -0.07238580 0.01605111 -0.27548274\\n\\nv -0.04310618 -0.03440183 -0.34806168\\n\\nv -0.05093681 0.00038205 -0.30079651\\n\\nv -0.06363631 0.02204103 -0.25626642\\n\\nv -0.09672803 0.03414394 -0.22972825\\n\\nv -0.16713586 0.03933201 -0.20466647\\n\\nv -0.04197370 -0.03525359 -0.29701990\\n\\nv -0.04234027 -0.01750148 -0.27522683\\n\\nv -0.06441334 0.00038205 -0.22583899\\n\\nv -0.12644511 0.01868299 -0.23768158\\n\\nv -0.23004447 0.03852961 -0.22924587\\n\\nv -0.30526084 0.04013694 -0.15578139\\n\\nv -0.42436418 0.05270351 -0.13352484\\n\\nv -0.41732270 0.02547983 -0.06938217\\n\\nv -0.32633486 0.03159189 -0.05461483\\n\\nv -0.37351248 0.01573402 -0.05322360\\n\\nv -0.29886851 0.01701375 -0.04812181\\n\\nv -0.19623642 0.03838141 -0.05691636\\n\\nv -0.33290458 0.00038205 -0.05586210\\n\\nv -0.26317406 0.01211050 -0.04155779\\n\\nv -0.18943152 0.00888644 -0.03607170\\n\\nv -0.09527188 0.02495399 -0.03407635\\n\\nv -0.28520462 -0.00816179 -0.03906713\\n\\nv -0.24254900 0.00049884 -0.03607170\\n\\nv -0.16907106 0.00873455 -0.03504888\\n\\nv -0.09700922 0.01325736 -0.02647550\\n\\nv -0.05243704 0.02761077 -0.00734324\\n\\nv -0.19150184 -0.01924922 -0.03607170\\n\\nv -0.18314832 -0.01227186 -0.02460258\\n\\nv -0.13294050 0.00046979 -0.02988627\\n\\nv -0.08124071 0.00939572 -0.01950022\\n\\nv -0.05924898 0.02086861 0.00270903\\n\\nv -0.04616210 0.02599821 0.02857584\\n\\nv -0.04122228 0.04402341 0.22447179\\n\\nv -0.05134983 0.05295589 0.26861846\\n\\nv -0.05714672 0.05472744 0.28419018\\n\\nv -0.07066518 0.04274379 0.27768689\\n\\nv -0.14699212 0.05502947 0.29631639\\n\\nv -0.09582739 0.04572688 0.31936938\\n\\nv -0.02712194 0.00035680 0.32547998\\n\\nv -0.13807631 0.04746855 0.33905661\\n\\nv -0.15267840 0.05894338 0.37297046\\n\\nv -0.01259198 0.06471443 0.35963672\\n\\nv -0.01602577 -0.00235794 0.31097126\\n\\nv -0.03230636 0.00018912 0.35517424\\n\\nv -0.07624594 0.04463248 0.37558383\\n\\nv -0.01675631 0.04287429 0.39413399\\n\\nv -0.00373996 0.08447130 0.39941651\\n\\nv -0.01660192 -0.00537687 0.27526212\\n\\nv -0.01485264 -0.00189516 0.33759516\\n\\nv -0.01861217 0.00038205 0.36545110\\n\\nv -0.00960919 0.02154584 0.38784295\\n\\nv -0.00284118 0.03785103 0.40907866\\n\\nv -0.00242110 0.05202873 0.38601625\\n\\nv 0.06554068 0.05488161 0.28362548\\n\\nv 0.04922990 0.04867897 0.28915042\\n\\nv 0.02848496 0.06257231 0.23295565\\n\\nv 0.02391960 0.02456117 0.24942271\\n\\nv 0.02373757 0.03627429 0.21787582\\n\\nv 0.03137435 0.04985142 0.15524520\\n\\nv 0.02278854 0.00038074 0.20842296\\n\\nv 0.02399330 0.01629248 0.17784061\\n\\nv 0.02570784 0.03155942 0.12930720\\n\\nv 0.03026303 0.03927877 0.09371114\\n\\nv 0.02827337 -0.00313939 0.14143156\\n\\nv 0.03295311 0.00038014 0.12456457\\n\\nv 0.03183554 0.01697225 0.08110076\\n\\nv 0.03405126 0.02392081 0.04833785\\n\\nv 0.04157101 0.03040714 0.03346737\\n\\nv 0.03037238 -0.00840358 0.07219478\\n\\nv 0.03435821 -0.00355384 0.06990417\\n\\nv 0.03949593 0.00038018 0.04783924\\n\\nv 0.04592399 0.01017723 0.02172100\\n\\nv 0.06171900 0.01462194 0.00607475\\n\\nv 0.06214217 0.02008380 -0.00979999\\n\\nv 0.04339906 0.06104473 -0.22515242\\n\\nv 0.08562473 0.03993456 -0.20266089\\n\\nv 0.04934542 0.04615870 -0.28633291\\n\\nv 0.11045276 0.00038205 -0.22470881\\n\\nv 0.04393482 0.00038205 -0.26995185\\n\\nv 0.04591564 0.00038205 -0.33695847\\n\\nv 0.11428829 -0.01517892 -0.21375990\\n\\nv 0.04336080 -0.01099461 -0.24469730\\n\\nv 0.02297125 -0.03009356 -0.30844688\\n\\nv 0.03045090 -0.05182841 -0.37389529\\n\\nv 0.11634195 -0.01283519 -0.20248556\\n\\nv 0.06375264 -0.01339763 -0.22774929\\n\\nv 0.03486122 -0.02528886 -0.25977105\\n\\nv 0.02732630 -0.04380197 -0.32462263\\n\\nv -0.00377325 -0.05119107 -0.38502491\\n\\nv 0.12045644 -0.02828642 -0.15497386\\n\\nv 0.07364563 -0.02865874 -0.19604069\\n\\nv 0.04410339 -0.03747588 -0.22504164\\n\\nv 0.02118581 -0.04654150 -0.26230192\\n\\nv 0.00077313 -0.07784131 -0.33541989\\n\\nv -0.01219200 -0.06125166 -0.34985411\\n\\nv -0.48754090 0.02536307 -0.21785502\\n\\nv -0.42610693 0.02570163 -0.23093639\\n\\nv -0.48982885 0.01771623 -0.20021611\\n\\nv -0.29376248 0.00038205 -0.22929162\\n\\nv -0.38578027 0.00038205 -0.18166105\\n\\nv -0.41504690 0.00038205 -0.12732615\\n\\nv -0.17953371 -0.00702859 -0.21479309\\n\\nv -0.25837824 -0.00583695 -0.18721668\\n\\nv -0.30137518 -0.00516055 -0.12563547\\n\\nv -0.31868300 -0.00416933 -0.09085388\\n\\nv -0.10635605 -0.01493465 -0.18540619\\n\\nv -0.17752837 -0.01326389 -0.17364623\\n\\nv -0.19166198 -0.00662740 -0.12148372\\n\\nv -0.22212394 -0.00475010 -0.10015433\\n\\nv -0.24244176 -0.00481090 -0.06876479\\n\\nv -0.06430947 -0.03237977 -0.19716975\\n\\nv -0.10768288 -0.03380535 -0.15686010\\n\\nv -0.15434738 -0.02357994 -0.14139251\\n\\nv -0.15243441 -0.01576349 -0.10630663\\n\\nv -0.18281765 -0.01572343 -0.08442607\\n\\nv -0.18975812 -0.01760963 -0.05892520\\n\\nv -0.03693299 0.03367342 0.12022260\\n\\nv -0.04349732 0.01523772 0.07476199\\n\\nv -0.03548529 0.01579408 0.16309044\\n\\nv -0.04479971 0.00038205 0.04465619\\n\\nv -0.03897125 0.00038205 0.12484720\\n\\nv -0.03055374 0.00038205 0.20720704\\n\\nv -0.04540440 -0.00787485 0.01845958\\n\\nv -0.03745156 -0.00475512 0.07086245\\n\\nv -0.03525353 -0.00332604 0.14699149\\n\\nv -0.02650438 -0.00243005 0.22245075\\n\\nv -0.05254499 -0.01240086 -0.00257814\\n\\nv -0.03800412 -0.00865049 0.02144951\\n\\nv -0.03656400 -0.00844862 0.07943399\\n\\nv -0.03280941 -0.00974460 0.15230289\\n\\nv -0.02459275 -0.00952994 0.22009970\\n\\nv -0.07299821 -0.02055719 -0.01468208\\n\\nv -0.04189521 -0.01754012 0.00548090\\n\\nv -0.03843580 -0.01704166 0.03275953\\n\\nv -0.03262697 -0.01735922 0.09083110\\n\\nv -0.02617412 -0.01605408 0.14010154\\n\\nv -0.02020858 -0.01153508 0.18222161\\n\\nv 0.15383036 0.05245128 0.36422980\\n\\nv 0.06212023 0.03846122 0.37335366\\n\\nv 0.11316496 0.05053015 0.34508097\\n\\nv 0.00932027 0.00038205 0.36665553\\n\\nv 0.02426640 0.00038205 0.35810661\\n\\nv 0.01906730 0.00038205 0.32466984\\n\\nv 0.00092786 -0.00205534 0.34232819\\n\\nv 0.00703158 -0.00224215 0.33647865\\n\\nv 0.00895078 -0.00289272 0.31805599\\n\\nv 0.01254741 -0.00166038 0.28977418\\n\\nv -0.00365876 -0.00526566 0.29642469\\n\\nv 0.00385738 -0.00497380 0.28695810\\n\\nv 0.00837866 -0.00595864 0.27423346\\n\\nv 0.01245205 -0.00543505 0.25504541\\n\\nv 0.01799372 -0.00961440 0.21392210\\n\\nv -0.00721144 -0.00961177 0.22296335\\n\\nv -0.00014007 -0.00616648 0.22683166\\n\\nv 0.00576312 -0.00591694 0.22087182\\n\\nv 0.01194450 -0.01253369 0.20099676\\n\\nv 0.01591135 -0.01629510 0.16024211\\n\\nv 0.02010431 -0.02102002 0.12245631\\n\\nv 0.19293393 0.00801961 -0.03607170\\n\\nv 0.16805570 0.00812188 -0.03376922\\n\\nv 0.25651619 0.01202479 -0.04000425\\n\\nv 0.13453978 0.00038205 -0.02921677\\n\\nv 0.23408279 0.00038205 -0.03607170\\n\\nv 0.31854546 0.00038205 -0.05279534\\n\\nv 0.08466957 -0.00781212 -0.00991883\\n\\nv 0.17462966 -0.01158805 -0.02634397\\n\\nv 0.26582307 -0.01104142 -0.03866047\\n\\nv 0.29317829 -0.00079554 -0.04881530\\n\\nv 0.05605796 -0.01530857 -0.00102196\\n\\nv 0.11276489 -0.01664840 -0.01962402\\n\\nv 0.17880794 -0.01967376 -0.03607170\\n\\nv 0.22399198 -0.01211964 -0.04878152\\n\\nv 0.25208184 -0.01082519 -0.06456828\\n\\nv 0.04080851 -0.02074925 0.00886018\\n\\nv 0.07427207 -0.02476344 -0.01336041\\n\\nv 0.12108461 -0.02570748 -0.02908260\\n\\nv 0.15958279 -0.02363764 -0.04686151\\n\\nv 0.18764012 -0.02058195 -0.06355628\\n\\nv 0.19695382 -0.01655479 -0.08305532\\n\\nv 0.09351300 -0.04648364 -0.12958893\\n\\nv 0.06617762 -0.03877737 -0.13335800\\n\\nv 0.06582809 -0.05402211 -0.15389079\\n\\nv 0.04381773 -0.02844346 -0.11962920\\n\\nv 0.04220773 -0.03455434 -0.14451233\\n\\nv 0.03657177 -0.04920198 -0.16352548\\n\\nv 0.02759201 -0.02623015 -0.10018774\\n\\nv 0.01818405 -0.03182725 -0.12746912\\n\\nv 0.01493261 -0.03566150 -0.15165219\\n\\nv 0.01082660 -0.04864289 -0.18398826\\n\\nv 0.01372178 -0.02282740 -0.08750400\\n\\nv 0.00737705 -0.02024662 -0.11183055\\n\\nv 0.01130550 -0.01009573 -0.13371721\\n\\nv 0.01448866 -0.01177592 -0.15945767\\n\\nv 0.00673064 -0.02418468 -0.20564710\\n\\nv 0.00362292 -0.01866247 -0.07099591\\n\\nv -0.00309559 -0.02236555 -0.09765677\\n\\nv -0.00856916 -0.01872321 -0.11792001\\n\\nv -0.01190698 -0.01471289 -0.14353997\\n\\nv -0.01473050 -0.02356002 -0.17822531\\n\\nv -0.01717898 -0.03938938 -0.21877868\\n\\nv -0.05582239 -0.05534896 -0.17738914\\n\\nv -0.05290634 -0.04023983 -0.16759808\\n\\nv -0.06980970 -0.05238241 -0.15362349\\n\\nv -0.04351622 -0.03310627 -0.14539164\\n\\nv -0.06324027 -0.03728707 -0.14937162\\n\\nv -0.08539427 -0.03672448 -0.13673002\\n\\nv -0.03148437 -0.02679043 -0.10751285\\n\\nv -0.04727731 -0.03372988 -0.11546981\\n\\nv -0.07174608 -0.02927957 -0.11705749\\n\\nv -0.09731495 -0.03439309 -0.10780893\\n\\nv -0.02805368 -0.02050974 -0.08810571\\n\\nv -0.04047100 -0.02936278 -0.08494236\\n\\nv -0.05505496 -0.02974273 -0.08480655\\n\\nv -0.08573478 -0.02971511 -0.08938301\\n\\nv -0.11401648 -0.02809666 -0.07883327\\n\\nv -0.02277034 -0.02110039 -0.06055090\\n\\nv -0.03221952 -0.02595967 -0.05805909\\n\\nv -0.04167533 -0.02743416 -0.05875458\\n\\nv -0.06384321 -0.02636642 -0.05830519\\n\\nv -0.09608279 -0.02791938 -0.06124203\\n\\nv -0.11956992 -0.02952003 -0.05298033\\n\\nv -0.07095981 -0.03051298 -0.02418032\\n\\nv -0.05372003 -0.03245950 -0.02189649\\n\\nv -0.04543452 -0.04083918 -0.01076454\\n\\nv -0.04448156 -0.03291231 -0.02220224\\n\\nv -0.03982111 -0.04703116 -0.01027502\\n\\nv -0.03467552 -0.04677271 0.00460193\\n\\nv -0.03159567 -0.03105591 -0.02082121\\n\\nv -0.03035055 -0.03729248 -0.00546598\\n\\nv -0.03377007 -0.05125552 0.01172535\\n\\nv -0.02911726 -0.03908434 0.04790699\\n\\nv -0.02460329 -0.03071610 -0.01993377\\n\\nv -0.02255788 -0.03012216 -0.00569852\\n\\nv -0.02665214 -0.03176316 0.01630237\\n\\nv -0.03021453 -0.03792105 0.05194256\\n\\nv -0.02845623 -0.03515047 0.08586547\\n\\nv -0.01503462 -0.02875175 -0.01841334\\n\\nv -0.01434727 -0.03165572 -0.00437466\\n\\nv -0.01754973 -0.02401901 0.01582378\\n\\nv -0.02151463 -0.03115612 0.04310052\\n\\nv -0.02670709 -0.03230205 0.08738960\\n\\nv -0.02530861 -0.02563921 0.12340535\\n\\nv 0.10341334 -0.03735313 -0.08922382\\n\\nv 0.09471791 -0.03130351 -0.07036933\\n\\nv 0.07321016 -0.02587589 -0.08993747\\n\\nv 0.08298204 -0.02792954 -0.04783685\\n\\nv 0.07277640 -0.02355374 -0.06175414\\n\\nv 0.05948960 -0.02958589 -0.07699449\\n\\nv 0.06461037 -0.02795614 -0.02983210\\n\\nv 0.05857145 -0.02384381 -0.03607170\\n\\nv 0.05354282 -0.02287392 -0.05082423\\n\\nv 0.04025488 -0.02610606 -0.06388465\\n\\nv 0.04246246 -0.03670659 -0.01975222\\n\\nv 0.04140766 -0.03429652 -0.02285353\\n\\nv 0.03821142 -0.02867480 -0.02945759\\n\\nv 0.03390296 -0.02744837 -0.03607154\\n\\nv 0.02517056 -0.02698433 -0.05111515\\n\\nv 0.02546164 -0.03627037 -0.00538091\\n\\nv 0.02670778 -0.04633897 -0.00803279\\n\\nv 0.02562791 -0.03730356 -0.01341768\\n\\nv 0.02502627 -0.03262354 -0.02096742\\n\\nv 0.02092007 -0.03451047 -0.02793151\\n\\nv 0.01034638 -0.02918511 -0.03607149\\n\\nv -0.01017283 -0.01794409 0.14831831\\n\\nv -0.01069786 -0.02479796 0.11576885\\n\\nv -0.00108516 -0.02208349 0.13601334\\n\\nv -0.00798167 -0.02391474 0.06897991\\n\\nv 0.00016975 -0.02444613 0.11609250\\n\\nv 0.00672187 -0.02208060 0.12620594\\n\\nv -0.00428405 -0.02613276 0.02467956\\n\\nv 0.00262486 -0.02207653 0.05126765\\n\\nv 0.00789966 -0.02615670 0.08163834\\n\\nv 0.01284914 -0.02939717 0.10882372\\n\\nv -0.00263231 -0.03604392 -0.00086746\\n\\nv 0.00144999 -0.02211372 0.01422206\\n\\nv 0.00363367 -0.02578346 0.03152444\\n\\nv 0.01200138 -0.03385607 0.06427404\\n\\nv 0.02198629 -0.03579886 0.08354381\\n\\nv 0.00005546 -0.03582680 -0.01271961\\n\\nv 0.00376218 -0.03405481 -0.00538278\\n\\nv 0.00594472 -0.02706067 0.00458699\\n\\nv 0.00820833 -0.03250464 0.02220769\\n\\nv 0.02070706 -0.03844643 0.03914131\\n\\nv 0.02080017 -0.03468085 0.05205861\\n\\n\\n\\nf 1 20 19\\n\\nf 2 26 40\\n\\nf 1 19 54\\n\\nf 1 54 68\\n\\nf 1 68 41\\n\\nf 2 40 89\\n\\nf 3 33 103\\n\\nf 4 61 117\\n\\nf 5 75 131\\n\\nf 6 82 145\\n\\nf 2 89 104\\n\\nf 3 103 118\\n\\nf 4 117 132\\n\\nf 5 131 146\\n\\nf 6 145 90\\n\\nf 7 159 194\\n\\nf 8 166 208\\n\\nf 9 173 215\\n\\nf 10 180 222\\n\\nf 11 187 195\\n\\nf 201 216 12\\n\\nf 200 223 201\\n\\nf 199 224 200\\n\\nf 198 226 199\\n\\nf 197 229 198\\n\\nf 196 233 197\\n\\nf 195 238 196\\n\\nf 201 223 216\\n\\nf 223 217 216\\n\\nf 200 224 223\\n\\nf 224 225 223\\n\\nf 223 225 217\\n\\nf 225 218 217\\n\\nf 199 226 224\\n\\nf 226 227 224\\n\\nf 224 227 225\\n\\nf 227 228 225\\n\\nf 225 228 218\\n\\nf 228 219 218\\n\\nf 198 229 226\\n\\nf 229 230 226\\n\\nf 226 230 227\\n\\nf 230 231 227\\n\\nf 227 231 228\\n\\nf 231 232 228\\n\\nf 228 232 219\\n\\nf 232 220 219\\n\\nf 197 233 229\\n\\nf 233 234 229\\n\\nf 229 234 230\\n\\nf 234 235 230\\n\\nf 230 235 231\\n\\nf 235 236 231\\n\\nf 231 236 232\\n\\nf 236 237 232\\n\\nf 232 237 220\\n\\nf 237 221 220\\n\\nf 196 238 233\\n\\nf 238 239 233\\n\\nf 233 239 234\\n\\nf 239 240 234\\n\\nf 234 240 235\\n\\nf 240 241 235\\n\\nf 235 241 236\\n\\nf 241 242 236\\n\\nf 236 242 237\\n\\nf 242 243 237\\n\\nf 237 243 221\\n\\nf 243 222 221\\n\\nf 195 187 238\\n\\nf 187 186 238\\n\\nf 238 186 239\\n\\nf 186 185 239\\n\\nf 239 185 240\\n\\nf 185 184 240\\n\\nf 240 184 241\\n\\nf 184 183 241\\n\\nf 241 183 242\\n\\nf 183 182 242\\n\\nf 242 182 243\\n\\nf 182 181 243\\n\\nf 243 181 222\\n\\nf 181 10 222\\n\\nf 216 209 12\\n\\nf 217 244 216\\n\\nf 218 245 217\\n\\nf 219 247 218\\n\\nf 220 250 219\\n\\nf 221 254 220\\n\\nf 222 259 221\\n\\nf 216 244 209\\n\\nf 244 210 209\\n\\nf 217 245 244\\n\\nf 245 246 244\\n\\nf 244 246 210\\n\\nf 246 211 210\\n\\nf 218 247 245\\n\\nf 247 248 245\\n\\nf 245 248 246\\n\\nf 248 249 246\\n\\nf 246 249 211\\n\\nf 249 212 211\\n\\nf 219 250 247\\n\\nf 250 251 247\\n\\nf 247 251 248\\n\\nf 251 252 248\\n\\nf 248 252 249\\n\\nf 252 253 249\\n\\nf 249 253 212\\n\\nf 253 213 212\\n\\nf 220 254 250\\n\\nf 254 255 250\\n\\nf 250 255 251\\n\\nf 255 256 251\\n\\nf 251 256 252\\n\\nf 256 257 252\\n\\nf 252 257 253\\n\\nf 257 258 253\\n\\nf 253 258 213\\n\\nf 258 214 213\\n\\nf 221 259 254\\n\\nf 259 260 254\\n\\nf 254 260 255\\n\\nf 260 261 255\\n\\nf 255 261 256\\n\\nf 261 262 256\\n\\nf 256 262 257\\n\\nf 262 263 257\\n\\nf 257 263 258\\n\\nf 263 264 258\\n\\nf 258 264 214\\n\\nf 264 215 214\\n\\nf 222 180 259\\n\\nf 180 179 259\\n\\nf 259 179 260\\n\\nf 179 178 260\\n\\nf 260 178 261\\n\\nf 178 177 261\\n\\nf 261 177 262\\n\\nf 177 176 262\\n\\nf 262 176 263\\n\\nf 176 175 263\\n\\nf 263 175 264\\n\\nf 175 174 264\\n\\nf 264 174 215\\n\\nf 174 9 215\\n\\nf 209 202 12\\n\\nf 210 265 209\\n\\nf 211 266 210\\n\\nf 212 268 211\\n\\nf 213 271 212\\n\\nf 214 275 213\\n\\nf 215 280 214\\n\\nf 209 265 202\\n\\nf 265 203 202\\n\\nf 210 266 265\\n\\nf 266 267 265\\n\\nf 265 267 203\\n\\nf 267 204 203\\n\\nf 211 268 266\\n\\nf 268 269 266\\n\\nf 266 269 267\\n\\nf 269 270 267\\n\\nf 267 270 204\\n\\nf 270 205 204\\n\\nf 212 271 268\\n\\nf 271 272 268\\n\\nf 268 272 269\\n\\nf 272 273 269\\n\\nf 269 273 270\\n\\nf 273 274 270\\n\\nf 270 274 205\\n\\nf 274 206 205\\n\\nf 213 275 271\\n\\nf 275 276 271\\n\\nf 271 276 272\\n\\nf 276 277 272\\n\\nf 272 277 273\\n\\nf 277 278 273\\n\\nf 273 278 274\\n\\nf 278 279 274\\n\\nf 274 279 206\\n\\nf 279 207 206\\n\\nf 214 280 275\\n\\nf 280 281 275\\n\\nf 275 281 276\\n\\nf 281 282 276\\n\\nf 276 282 277\\n\\nf 282 283 277\\n\\nf 277 283 278\\n\\nf 283 284 278\\n\\nf 278 284 279\\n\\nf 284 285 279\\n\\nf 279 285 207\\n\\nf 285 208 207\\n\\nf 215 173 280\\n\\nf 173 172 280\\n\\nf 280 172 281\\n\\nf 172 171 281\\n\\nf 281 171 282\\n\\nf 171 170 282\\n\\nf 282 170 283\\n\\nf 170 169 283\\n\\nf 283 169 284\\n\\nf 169 168 284\\n\\nf 284 168 285\\n\\nf 168 167 285\\n\\nf 285 167 208\\n\\nf 167 8 208\\n\\nf 202 188 12\\n\\nf 203 286 202\\n\\nf 204 287 203\\n\\nf 205 289 204\\n\\nf 206 292 205\\n\\nf 207 296 206\\n\\nf 208 301 207\\n\\nf 202 286 188\\n\\nf 286 189 188\\n\\nf 203 287 286\\n\\nf 287 288 286\\n\\nf 286 288 189\\n\\nf 288 190 189\\n\\nf 204 289 287\\n\\nf 289 290 287\\n\\nf 287 290 288\\n\\nf 290 291 288\\n\\nf 288 291 190\\n\\nf 291 191 190\\n\\nf 205 292 289\\n\\nf 292 293 289\\n\\nf 289 293 290\\n\\nf 293 294 290\\n\\nf 290 294 291\\n\\nf 294 295 291\\n\\nf 291 295 191\\n\\nf 295 192 191\\n\\nf 206 296 292\\n\\nf 296 297 292\\n\\nf 292 297 293\\n\\nf 297 298 293\\n\\nf 293 298 294\\n\\nf 298 299 294\\n\\nf 294 299 295\\n\\nf 299 300 295\\n\\nf 295 300 192\\n\\nf 300 193 192\\n\\nf 207 301 296\\n\\nf 301 302 296\\n\\nf 296 302 297\\n\\nf 302 303 297\\n\\nf 297 303 298\\n\\nf 303 304 298\\n\\nf 298 304 299\\n\\nf 304 305 299\\n\\nf 299 305 300\\n\\nf 305 306 300\\n\\nf 300 306 193\\n\\nf 306 194 193\\n\\nf 208 166 301\\n\\nf 166 165 301\\n\\nf 301 165 302\\n\\nf 165 164 302\\n\\nf 302 164 303\\n\\nf 164 163 303\\n\\nf 303 163 304\\n\\nf 163 162 304\\n\\nf 304 162 305\\n\\nf 162 161 305\\n\\nf 305 161 306\\n\\nf 161 160 306\\n\\nf 306 160 194\\n\\nf 160 7 194\\n\\nf 188 201 12\\n\\nf 189 307 188\\n\\nf 190 308 189\\n\\nf 191 310 190\\n\\nf 192 313 191\\n\\nf 193 317 192\\n\\nf 194 322 193\\n\\nf 188 307 201\\n\\nf 307 200 201\\n\\nf 189 308 307\\n\\nf 308 309 307\\n\\nf 307 309 200\\n\\nf 309 199 200\\n\\nf 190 310 308\\n\\nf 310 311 308\\n\\nf 308 311 309\\n\\nf 311 312 309\\n\\nf 309 312 199\\n\\nf 312 198 199\\n\\nf 191 313 310\\n\\nf 313 314 310\\n\\nf 310 314 311\\n\\nf 314 315 311\\n\\nf 311 315 312\\n\\nf 315 316 312\\n\\nf 312 316 198\\n\\nf 316 197 198\\n\\nf 192 317 313\\n\\nf 317 318 313\\n\\nf 313 318 314\\n\\nf 318 319 314\\n\\nf 314 319 315\\n\\nf 319 320 315\\n\\nf 315 320 316\\n\\nf 320 321 316\\n\\nf 316 321 197\\n\\nf 321 196 197\\n\\nf 193 322 317\\n\\nf 322 323 317\\n\\nf 317 323 318\\n\\nf 323 324 318\\n\\nf 318 324 319\\n\\nf 324 325 319\\n\\nf 319 325 320\\n\\nf 325 326 320\\n\\nf 320 326 321\\n\\nf 326 327 321\\n\\nf 321 327 196\\n\\nf 327 195 196\\n\\nf 194 159 322\\n\\nf 159 158 322\\n\\nf 322 158 323\\n\\nf 158 157 323\\n\\nf 323 157 324\\n\\nf 157 156 324\\n\\nf 324 156 325\\n\\nf 156 155 325\\n\\nf 325 155 326\\n\\nf 155 154 326\\n\\nf 326 154 327\\n\\nf 154 153 327\\n\\nf 327 153 195\\n\\nf 153 11 195\\n\\nf 96 187 11\\n\\nf 95 328 96\\n\\nf 94 329 95\\n\\nf 93 331 94\\n\\nf 92 334 93\\n\\nf 91 338 92\\n\\nf 90 343 91\\n\\nf 96 328 187\\n\\nf 328 186 187\\n\\nf 95 329 328\\n\\nf 329 330 328\\n\\nf 328 330 186\\n\\nf 330 185 186\\n\\nf 94 331 329\\n\\nf 331 332 329\\n\\nf 329 332 330\\n\\nf 332 333 330\\n\\nf 330 333 185\\n\\nf 333 184 185\\n\\nf 93 334 331\\n\\nf 334 335 331\\n\\nf 331 335 332\\n\\nf 335 336 332\\n\\nf 332 336 333\\n\\nf 336 337 333\\n\\nf 333 337 184\\n\\nf 337 183 184\\n\\nf 92 338 334\\n\\nf 338 339 334\\n\\nf 334 339 335\\n\\nf 339 340 335\\n\\nf 335 340 336\\n\\nf 340 341 336\\n\\nf 336 341 337\\n\\nf 341 342 337\\n\\nf 337 342 183\\n\\nf 342 182 183\\n\\nf 91 343 338\\n\\nf 343 344 338\\n\\nf 338 344 339\\n\\nf 344 345 339\\n\\nf 339 345 340\\n\\nf 345 346 340\\n\\nf 340 346 341\\n\\nf 346 347 341\\n\\nf 341 347 342\\n\\nf 347 348 342\\n\\nf 342 348 182\\n\\nf 348 181 182\\n\\nf 90 145 343\\n\\nf 145 144 343\\n\\nf 343 144 344\\n\\nf 144 143 344\\n\\nf 344 143 345\\n\\nf 143 142 345\\n\\nf 345 142 346\\n\\nf 142 141 346\\n\\nf 346 141 347\\n\\nf 141 140 347\\n\\nf 347 140 348\\n\\nf 140 139 348\\n\\nf 348 139 181\\n\\nf 139 10 181\\n\\nf 152 180 10\\n\\nf 151 349 152\\n\\nf 150 350 151\\n\\nf 149 352 150\\n\\nf 148 355 149\\n\\nf 147 359 148\\n\\nf 146 364 147\\n\\nf 152 349 180\\n\\nf 349 179 180\\n\\nf 151 350 349\\n\\nf 350 351 349\\n\\nf 349 351 179\\n\\nf 351 178 179\\n\\nf 150 352 350\\n\\nf 352 353 350\\n\\nf 350 353 351\\n\\nf 353 354 351\\n\\nf 351 354 178\\n\\nf 354 177 178\\n\\nf 149 355 352\\n\\nf 355 356 352\\n\\nf 352 356 353\\n\\nf 356 357 353\\n\\nf 353 357 354\\n\\nf 357 358 354\\n\\nf 354 358 177\\n\\nf 358 176 177\\n\\nf 148 359 355\\n\\nf 359 360 355\\n\\nf 355 360 356\\n\\nf 360 361 356\\n\\nf 356 361 357\\n\\nf 361 362 357\\n\\nf 357 362 358\\n\\nf 362 363 358\\n\\nf 358 363 176\\n\\nf 363 175 176\\n\\nf 147 364 359\\n\\nf 364 365 359\\n\\nf 359 365 360\\n\\nf 365 366 360\\n\\nf 360 366 361\\n\\nf 366 367 361\\n\\nf 361 367 362\\n\\nf 367 368 362\\n\\nf 362 368 363\\n\\nf 368 369 363\\n\\nf 363 369 175\\n\\nf 369 174 175\\n\\nf 146 131 364\\n\\nf 131 130 364\\n\\nf 364 130 365\\n\\nf 130 129 365\\n\\nf 365 129 366\\n\\nf 129 128 366\\n\\nf 366 128 367\\n\\nf 128 127 367\\n\\nf 367 127 368\\n\\nf 127 126 368\\n\\nf 368 126 369\\n\\nf 126 125 369\\n\\nf 369 125 174\\n\\nf 125 9 174\\n\\nf 138 173 9\\n\\nf 137 370 138\\n\\nf 136 371 137\\n\\nf 135 373 136\\n\\nf 134 376 135\\n\\nf 133 380 134\\n\\nf 132 385 133\\n\\nf 138 370 173\\n\\nf 370 172 173\\n\\nf 137 371 370\\n\\nf 371 372 370\\n\\nf 370 372 172\\n\\nf 372 171 172\\n\\nf 136 373 371\\n\\nf 373 374 371\\n\\nf 371 374 372\\n\\nf 374 375 372\\n\\nf 372 375 171\\n\\nf 375 170 171\\n\\nf 135 376 373\\n\\nf 376 377 373\\n\\nf 373 377 374\\n\\nf 377 378 374\\n\\nf 374 378 375\\n\\nf 378 379 375\\n\\nf 375 379 170\\n\\nf 379 169 170\\n\\nf 134 380 376\\n\\nf 380 381 376\\n\\nf 376 381 377\\n\\nf 381 382 377\\n\\nf 377 382 378\\n\\nf 382 383 378\\n\\nf 378 383 379\\n\\nf 383 384 379\\n\\nf 379 384 169\\n\\nf 384 168 169\\n\\nf 133 385 380\\n\\nf 385 386 380\\n\\nf 380 386 381\\n\\nf 386 387 381\\n\\nf 381 387 382\\n\\nf 387 388 382\\n\\nf 382 388 383\\n\\nf 388 389 383\\n\\nf 383 389 384\\n\\nf 389 390 384\\n\\nf 384 390 168\\n\\nf 390 167 168\\n\\nf 132 117 385\\n\\nf 117 116 385\\n\\nf 385 116 386\\n\\nf 116 115 386\\n\\nf 386 115 387\\n\\nf 115 114 387\\n\\nf 387 114 388\\n\\nf 114 113 388\\n\\nf 388 113 389\\n\\nf 113 112 389\\n\\nf 389 112 390\\n\\nf 112 111 390\\n\\nf 390 111 167\\n\\nf 111 8 167\\n\\nf 124 166 8\\n\\nf 123 391 124\\n\\nf 122 392 123\\n\\nf 121 394 122\\n\\nf 120 397 121\\n\\nf 119 401 120\\n\\nf 118 406 119\\n\\nf 124 391 166\\n\\nf 391 165 166\\n\\nf 123 392 391\\n\\nf 392 393 391\\n\\nf 391 393 165\\n\\nf 393 164 165\\n\\nf 122 394 392\\n\\nf 394 395 392\\n\\nf 392 395 393\\n\\nf 395 396 393\\n\\nf 393 396 164\\n\\nf 396 163 164\\n\\nf 121 397 394\\n\\nf 397 398 394\\n\\nf 394 398 395\\n\\nf 398 399 395\\n\\nf 395 399 396\\n\\nf 399 400 396\\n\\nf 396 400 163\\n\\nf 400 162 163\\n\\nf 120 401 397\\n\\nf 401 402 397\\n\\nf 397 402 398\\n\\nf 402 403 398\\n\\nf 398 403 399\\n\\nf 403 404 399\\n\\nf 399 404 400\\n\\nf 404 405 400\\n\\nf 400 405 162\\n\\nf 405 161 162\\n\\nf 119 406 401\\n\\nf 406 407 401\\n\\nf 401 407 402\\n\\nf 407 408 402\\n\\nf 402 408 403\\n\\nf 408 409 403\\n\\nf 403 409 404\\n\\nf 409 410 404\\n\\nf 404 410 405\\n\\nf 410 411 405\\n\\nf 405 411 161\\n\\nf 411 160 161\\n\\nf 118 103 406\\n\\nf 103 102 406\\n\\nf 406 102 407\\n\\nf 102 101 407\\n\\nf 407 101 408\\n\\nf 101 100 408\\n\\nf 408 100 409\\n\\nf 100 99 409\\n\\nf 409 99 410\\n\\nf 99 98 410\\n\\nf 410 98 411\\n\\nf 98 97 411\\n\\nf 411 97 160\\n\\nf 97 7 160\\n\\nf 110 159 7\\n\\nf 109 412 110\\n\\nf 108 413 109\\n\\nf 107 415 108\\n\\nf 106 418 107\\n\\nf 105 422 106\\n\\nf 104 427 105\\n\\nf 110 412 159\\n\\nf 412 158 159\\n\\nf 109 413 412\\n\\nf 413 414 412\\n\\nf 412 414 158\\n\\nf 414 157 158\\n\\nf 108 415 413\\n\\nf 415 416 413\\n\\nf 413 416 414\\n\\nf 416 417 414\\n\\nf 414 417 157\\n\\nf 417 156 157\\n\\nf 107 418 415\\n\\nf 418 419 415\\n\\nf 415 419 416\\n\\nf 419 420 416\\n\\nf 416 420 417\\n\\nf 420 421 417\\n\\nf 417 421 156\\n\\nf 421 155 156\\n\\nf 106 422 418\\n\\nf 422 423 418\\n\\nf 418 423 419\\n\\nf 423 424 419\\n\\nf 419 424 420\\n\\nf 424 425 420\\n\\nf 420 425 421\\n\\nf 425 426 421\\n\\nf 421 426 155\\n\\nf 426 154 155\\n\\nf 105 427 422\\n\\nf 427 428 422\\n\\nf 422 428 423\\n\\nf 428 429 423\\n\\nf 423 429 424\\n\\nf 429 430 424\\n\\nf 424 430 425\\n\\nf 430 431 425\\n\\nf 425 431 426\\n\\nf 431 432 426\\n\\nf 426 432 154\\n\\nf 432 153 154\\n\\nf 104 89 427\\n\\nf 89 88 427\\n\\nf 427 88 428\\n\\nf 88 87 428\\n\\nf 428 87 429\\n\\nf 87 86 429\\n\\nf 429 86 430\\n\\nf 86 85 430\\n\\nf 430 85 431\\n\\nf 85 84 431\\n\\nf 431 84 432\\n\\nf 84 83 432\\n\\nf 432 83 153\\n\\nf 83 11 153\\n\\nf 139 152 10\\n\\nf 140 433 139\\n\\nf 141 434 140\\n\\nf 142 436 141\\n\\nf 143 439 142\\n\\nf 144 443 143\\n\\nf 145 448 144\\n\\nf 139 433 152\\n\\nf 433 151 152\\n\\nf 140 434 433\\n\\nf 434 435 433\\n\\nf 433 435 151\\n\\nf 435 150 151\\n\\nf 141 436 434\\n\\nf 436 437 434\\n\\nf 434 437 435\\n\\nf 437 438 435\\n\\nf 435 438 150\\n\\nf 438 149 150\\n\\nf 142 439 436\\n\\nf 439 440 436\\n\\nf 436 440 437\\n\\nf 440 441 437\\n\\nf 437 441 438\\n\\nf 441 442 438\\n\\nf 438 442 149\\n\\nf 442 148 149\\n\\nf 143 443 439\\n\\nf 443 444 439\\n\\nf 439 444 440\\n\\nf 444 445 440\\n\\nf 440 445 441\\n\\nf 445 446 441\\n\\nf 441 446 442\\n\\nf 446 447 442\\n\\nf 442 447 148\\n\\nf 447 147 148\\n\\nf 144 448 443\\n\\nf 448 449 443\\n\\nf 443 449 444\\n\\nf 449 450 444\\n\\nf 444 450 445\\n\\nf 450 451 445\\n\\nf 445 451 446\\n\\nf 451 452 446\\n\\nf 446 452 447\\n\\nf 452 453 447\\n\\nf 447 453 147\\n\\nf 453 146 147\\n\\nf 145 82 448\\n\\nf 82 81 448\\n\\nf 448 81 449\\n\\nf 81 80 449\\n\\nf 449 80 450\\n\\nf 80 79 450\\n\\nf 450 79 451\\n\\nf 79 78 451\\n\\nf 451 78 452\\n\\nf 78 77 452\\n\\nf 452 77 453\\n\\nf 77 76 453\\n\\nf 453 76 146\\n\\nf 76 5 146\\n\\nf 125 138 9\\n\\nf 126 454 125\\n\\nf 127 455 126\\n\\nf 128 457 127\\n\\nf 129 460 128\\n\\nf 130 464 129\\n\\nf 131 469 130\\n\\nf 125 454 138\\n\\nf 454 137 138\\n\\nf 126 455 454\\n\\nf 455 456 454\\n\\nf 454 456 137\\n\\nf 456 136 137\\n\\nf 127 457 455\\n\\nf 457 458 455\\n\\nf 455 458 456\\n\\nf 458 459 456\\n\\nf 456 459 136\\n\\nf 459 135 136\\n\\nf 128 460 457\\n\\nf 460 461 457\\n\\nf 457 461 458\\n\\nf 461 462 458\\n\\nf 458 462 459\\n\\nf 462 463 459\\n\\nf 459 463 135\\n\\nf 463 134 135\\n\\nf 129 464 460\\n\\nf 464 465 460\\n\\nf 460 465 461\\n\\nf 465 466 461\\n\\nf 461 466 462\\n\\nf 466 467 462\\n\\nf 462 467 463\\n\\nf 467 468 463\\n\\nf 463 468 134\\n\\nf 468 133 134\\n\\nf 130 469 464\\n\\nf 469 470 464\\n\\nf 464 470 465\\n\\nf 470 471 465\\n\\nf 465 471 466\\n\\nf 471 472 466\\n\\nf 466 472 467\\n\\nf 472 473 467\\n\\nf 467 473 468\\n\\nf 473 474 468\\n\\nf 468 474 133\\n\\nf 474 132 133\\n\\nf 131 75 469\\n\\nf 75 74 469\\n\\nf 469 74 470\\n\\nf 74 73 470\\n\\nf 470 73 471\\n\\nf 73 72 471\\n\\nf 471 72 472\\n\\nf 72 71 472\\n\\nf 472 71 473\\n\\nf 71 70 473\\n\\nf 473 70 474\\n\\nf 70 69 474\\n\\nf 474 69 132\\n\\nf 69 4 132\\n\\nf 111 124 8\\n\\nf 112 475 111\\n\\nf 113 476 112\\n\\nf 114 478 113\\n\\nf 115 481 114\\n\\nf 116 485 115\\n\\nf 117 490 116\\n\\nf 111 475 124\\n\\nf 475 123 124\\n\\nf 112 476 475\\n\\nf 476 477 475\\n\\nf 475 477 123\\n\\nf 477 122 123\\n\\nf 113 478 476\\n\\nf 478 479 476\\n\\nf 476 479 477\\n\\nf 479 480 477\\n\\nf 477 480 122\\n\\nf 480 121 122\\n\\nf 114 481 478\\n\\nf 481 482 478\\n\\nf 478 482 479\\n\\nf 482 483 479\\n\\nf 479 483 480\\n\\nf 483 484 480\\n\\nf 480 484 121\\n\\nf 484 120 121\\n\\nf 115 485 481\\n\\nf 485 486 481\\n\\nf 481 486 482\\n\\nf 486 487 482\\n\\nf 482 487 483\\n\\nf 487 488 483\\n\\nf 483 488 484\\n\\nf 488 489 484\\n\\nf 484 489 120\\n\\nf 489 119 120\\n\\nf 116 490 485\\n\\nf 490 491 485\\n\\nf 485 491 486\\n\\nf 491 492 486\\n\\nf 486 492 487\\n\\nf 492 493 487\\n\\nf 487 493 488\\n\\nf 493 494 488\\n\\nf 488 494 489\\n\\nf 494 495 489\\n\\nf 489 495 119\\n\\nf 495 118 119\\n\\nf 117 61 490\\n\\nf 61 60 490\\n\\nf 490 60 491\\n\\nf 60 59 491\\n\\nf 491 59 492\\n\\nf 59 58 492\\n\\nf 492 58 493\\n\\nf 58 57 493\\n\\nf 493 57 494\\n\\nf 57 56 494\\n\\nf 494 56 495\\n\\nf 56 55 495\\n\\nf 495 55 118\\n\\nf 55 3 118\\n\\nf 97 110 7\\n\\nf 98 496 97\\n\\nf 99 497 98\\n\\nf 100 499 99\\n\\nf 101 502 100\\n\\nf 102 506 101\\n\\nf 103 511 102\\n\\nf 97 496 110\\n\\nf 496 109 110\\n\\nf 98 497 496\\n\\nf 497 498 496\\n\\nf 496 498 109\\n\\nf 498 108 109\\n\\nf 99 499 497\\n\\nf 499 500 497\\n\\nf 497 500 498\\n\\nf 500 501 498\\n\\nf 498 501 108\\n\\nf 501 107 108\\n\\nf 100 502 499\\n\\nf 502 503 499\\n\\nf 499 503 500\\n\\nf 503 504 500\\n\\nf 500 504 501\\n\\nf 504 505 501\\n\\nf 501 505 107\\n\\nf 505 106 107\\n\\nf 101 506 502\\n\\nf 506 507 502\\n\\nf 502 507 503\\n\\nf 507 508 503\\n\\nf 503 508 504\\n\\nf 508 509 504\\n\\nf 504 509 505\\n\\nf 509 510 505\\n\\nf 505 510 106\\n\\nf 510 105 106\\n\\nf 102 511 506\\n\\nf 511 512 506\\n\\nf 506 512 507\\n\\nf 512 513 507\\n\\nf 507 513 508\\n\\nf 513 514 508\\n\\nf 508 514 509\\n\\nf 514 515 509\\n\\nf 509 515 510\\n\\nf 515 516 510\\n\\nf 510 516 105\\n\\nf 516 104 105\\n\\nf 103 33 511\\n\\nf 33 32 511\\n\\nf 511 32 512\\n\\nf 32 31 512\\n\\nf 512 31 513\\n\\nf 31 30 513\\n\\nf 513 30 514\\n\\nf 30 29 514\\n\\nf 514 29 515\\n\\nf 29 28 515\\n\\nf 515 28 516\\n\\nf 28 27 516\\n\\nf 516 27 104\\n\\nf 27 2 104\\n\\nf 83 96 11\\n\\nf 84 517 83\\n\\nf 85 518 84\\n\\nf 86 520 85\\n\\nf 87 523 86\\n\\nf 88 527 87\\n\\nf 89 532 88\\n\\nf 83 517 96\\n\\nf 517 95 96\\n\\nf 84 518 517\\n\\nf 518 519 517\\n\\nf 517 519 95\\n\\nf 519 94 95\\n\\nf 85 520 518\\n\\nf 520 521 518\\n\\nf 518 521 519\\n\\nf 521 522 519\\n\\nf 519 522 94\\n\\nf 522 93 94\\n\\nf 86 523 520\\n\\nf 523 524 520\\n\\nf 520 524 521\\n\\nf 524 525 521\\n\\nf 521 525 522\\n\\nf 525 526 522\\n\\nf 522 526 93\\n\\nf 526 92 93\\n\\nf 87 527 523\\n\\nf 527 528 523\\n\\nf 523 528 524\\n\\nf 528 529 524\\n\\nf 524 529 525\\n\\nf 529 530 525\\n\\nf 525 530 526\\n\\nf 530 531 526\\n\\nf 526 531 92\\n\\nf 531 91 92\\n\\nf 88 532 527\\n\\nf 532 533 527\\n\\nf 527 533 528\\n\\nf 533 534 528\\n\\nf 528 534 529\\n\\nf 534 535 529\\n\\nf 529 535 530\\n\\nf 535 536 530\\n\\nf 530 536 531\\n\\nf 536 537 531\\n\\nf 531 537 91\\n\\nf 537 90 91\\n\\nf 89 40 532\\n\\nf 40 39 532\\n\\nf 532 39 533\\n\\nf 39 38 533\\n\\nf 533 38 534\\n\\nf 38 37 534\\n\\nf 534 37 535\\n\\nf 37 36 535\\n\\nf 535 36 536\\n\\nf 36 35 536\\n\\nf 536 35 537\\n\\nf 35 34 537\\n\\nf 537 34 90\\n\\nf 34 6 90\\n\\nf 47 82 6\\n\\nf 46 538 47\\n\\nf 45 539 46\\n\\nf 44 541 45\\n\\nf 43 544 44\\n\\nf 42 548 43\\n\\nf 41 553 42\\n\\nf 47 538 82\\n\\nf 538 81 82\\n\\nf 46 539 538\\n\\nf 539 540 538\\n\\nf 538 540 81\\n\\nf 540 80 81\\n\\nf 45 541 539\\n\\nf 541 542 539\\n\\nf 539 542 540\\n\\nf 542 543 540\\n\\nf 540 543 80\\n\\nf 543 79 80\\n\\nf 44 544 541\\n\\nf 544 545 541\\n\\nf 541 545 542\\n\\nf 545 546 542\\n\\nf 542 546 543\\n\\nf 546 547 543\\n\\nf 543 547 79\\n\\nf 547 78 79\\n\\nf 43 548 544\\n\\nf 548 549 544\\n\\nf 544 549 545\\n\\nf 549 550 545\\n\\nf 545 550 546\\n\\nf 550 551 546\\n\\nf 546 551 547\\n\\nf 551 552 547\\n\\nf 547 552 78\\n\\nf 552 77 78\\n\\nf 42 553 548\\n\\nf 553 554 548\\n\\nf 548 554 549\\n\\nf 554 555 549\\n\\nf 549 555 550\\n\\nf 555 556 550\\n\\nf 550 556 551\\n\\nf 556 557 551\\n\\nf 551 557 552\\n\\nf 557 558 552\\n\\nf 552 558 77\\n\\nf 558 76 77\\n\\nf 41 68 553\\n\\nf 68 67 553\\n\\nf 553 67 554\\n\\nf 67 66 554\\n\\nf 554 66 555\\n\\nf 66 65 555\\n\\nf 555 65 556\\n\\nf 65 64 556\\n\\nf 556 64 557\\n\\nf 64 63 557\\n\\nf 557 63 558\\n\\nf 63 62 558\\n\\nf 558 62 76\\n\\nf 62 5 76\\n\\nf 62 75 5\\n\\nf 63 559 62\\n\\nf 64 560 63\\n\\nf 65 562 64\\n\\nf 66 565 65\\n\\nf 67 569 66\\n\\nf 68 574 67\\n\\nf 62 559 75\\n\\nf 559 74 75\\n\\nf 63 560 559\\n\\nf 560 561 559\\n\\nf 559 561 74\\n\\nf 561 73 74\\n\\nf 64 562 560\\n\\nf 562 563 560\\n\\nf 560 563 561\\n\\nf 563 564 561\\n\\nf 561 564 73\\n\\nf 564 72 73\\n\\nf 65 565 562\\n\\nf 565 566 562\\n\\nf 562 566 563\\n\\nf 566 567 563\\n\\nf 563 567 564\\n\\nf 567 568 564\\n\\nf 564 568 72\\n\\nf 568 71 72\\n\\nf 66 569 565\\n\\nf 569 570 565\\n\\nf 565 570 566\\n\\nf 570 571 566\\n\\nf 566 571 567\\n\\nf 571 572 567\\n\\nf 567 572 568\\n\\nf 572 573 568\\n\\nf 568 573 71\\n\\nf 573 70 71\\n\\nf 67 574 569\\n\\nf 574 575 569\\n\\nf 569 575 570\\n\\nf 575 576 570\\n\\nf 570 576 571\\n\\nf 576 577 571\\n\\nf 571 577 572\\n\\nf 577 578 572\\n\\nf 572 578 573\\n\\nf 578 579 573\\n\\nf 573 579 70\\n\\nf 579 69 70\\n\\nf 68 54 574\\n\\nf 54 53 574\\n\\nf 574 53 575\\n\\nf 53 52 575\\n\\nf 575 52 576\\n\\nf 52 51 576\\n\\nf 576 51 577\\n\\nf 51 50 577\\n\\nf 577 50 578\\n\\nf 50 49 578\\n\\nf 578 49 579\\n\\nf 49 48 579\\n\\nf 579 48 69\\n\\nf 48 4 69\\n\\nf 48 61 4\\n\\nf 49 580 48\\n\\nf 50 581 49\\n\\nf 51 583 50\\n\\nf 52 586 51\\n\\nf 53 590 52\\n\\nf 54 595 53\\n\\nf 48 580 61\\n\\nf 580 60 61\\n\\nf 49 581 580\\n\\nf 581 582 580\\n\\nf 580 582 60\\n\\nf 582 59 60\\n\\nf 50 583 581\\n\\nf 583 584 581\\n\\nf 581 584 582\\n\\nf 584 585 582\\n\\nf 582 585 59\\n\\nf 585 58 59\\n\\nf 51 586 583\\n\\nf 586 587 583\\n\\nf 583 587 584\\n\\nf 587 588 584\\n\\nf 584 588 585\\n\\nf 588 589 585\\n\\nf 585 589 58\\n\\nf 589 57 58\\n\\nf 52 590 586\\n\\nf 590 591 586\\n\\nf 586 591 587\\n\\nf 591 592 587\\n\\nf 587 592 588\\n\\nf 592 593 588\\n\\nf 588 593 589\\n\\nf 593 594 589\\n\\nf 589 594 57\\n\\nf 594 56 57\\n\\nf 53 595 590\\n\\nf 595 596 590\\n\\nf 590 596 591\\n\\nf 596 597 591\\n\\nf 591 597 592\\n\\nf 597 598 592\\n\\nf 592 598 593\\n\\nf 598 599 593\\n\\nf 593 599 594\\n\\nf 599 600 594\\n\\nf 594 600 56\\n\\nf 600 55 56\\n\\nf 54 19 595\\n\\nf 19 18 595\\n\\nf 595 18 596\\n\\nf 18 17 596\\n\\nf 596 17 597\\n\\nf 17 16 597\\n\\nf 597 16 598\\n\\nf 16 15 598\\n\\nf 598 15 599\\n\\nf 15 14 599\\n\\nf 599 14 600\\n\\nf 14 13 600\\n\\nf 600 13 55\\n\\nf 13 3 55\\n\\nf 34 47 6\\n\\nf 35 601 34\\n\\nf 36 602 35\\n\\nf 37 604 36\\n\\nf 38 607 37\\n\\nf 39 611 38\\n\\nf 40 616 39\\n\\nf 34 601 47\\n\\nf 601 46 47\\n\\nf 35 602 601\\n\\nf 602 603 601\\n\\nf 601 603 46\\n\\nf 603 45 46\\n\\nf 36 604 602\\n\\nf 604 605 602\\n\\nf 602 605 603\\n\\nf 605 606 603\\n\\nf 603 606 45\\n\\nf 606 44 45\\n\\nf 37 607 604\\n\\nf 607 608 604\\n\\nf 604 608 605\\n\\nf 608 609 605\\n\\nf 605 609 606\\n\\nf 609 610 606\\n\\nf 606 610 44\\n\\nf 610 43 44\\n\\nf 38 611 607\\n\\nf 611 612 607\\n\\nf 607 612 608\\n\\nf 612 613 608\\n\\nf 608 613 609\\n\\nf 613 614 609\\n\\nf 609 614 610\\n\\nf 614 615 610\\n\\nf 610 615 43\\n\\nf 615 42 43\\n\\nf 39 616 611\\n\\nf 616 617 611\\n\\nf 611 617 612\\n\\nf 617 618 612\\n\\nf 612 618 613\\n\\nf 618 619 613\\n\\nf 613 619 614\\n\\nf 619 620 614\\n\\nf 614 620 615\\n\\nf 620 621 615\\n\\nf 615 621 42\\n\\nf 621 41 42\\n\\nf 40 26 616\\n\\nf 26 25 616\\n\\nf 616 25 617\\n\\nf 25 24 617\\n\\nf 617 24 618\\n\\nf 24 23 618\\n\\nf 618 23 619\\n\\nf 23 22 619\\n\\nf 619 22 620\\n\\nf 22 21 620\\n\\nf 620 21 621\\n\\nf 21 20 621\\n\\nf 621 20 41\\n\\nf 20 1 41\\n\\nf 13 33 3\\n\\nf 14 622 13\\n\\nf 15 623 14\\n\\nf 16 625 15\\n\\nf 17 628 16\\n\\nf 18 632 17\\n\\nf 19 637 18\\n\\nf 13 622 33\\n\\nf 622 32 33\\n\\nf 14 623 622\\n\\nf 623 624 622\\n\\nf 622 624 32\\n\\nf 624 31 32\\n\\nf 15 625 623\\n\\nf 625 626 623\\n\\nf 623 626 624\\n\\nf 626 627 624\\n\\nf 624 627 31\\n\\nf 627 30 31\\n\\nf 16 628 625\\n\\nf 628 629 625\\n\\nf 625 629 626\\n\\nf 629 630 626\\n\\nf 626 630 627\\n\\nf 630 631 627\\n\\nf 627 631 30\\n\\nf 631 29 30\\n\\nf 17 632 628\\n\\nf 632 633 628\\n\\nf 628 633 629\\n\\nf 633 634 629\\n\\nf 629 634 630\\n\\nf 634 635 630\\n\\nf 630 635 631\\n\\nf 635 636 631\\n\\nf 631 636 29\\n\\nf 636 28 29\\n\\nf 18 637 632\\n\\nf 637 638 632\\n\\nf 632 638 633\\n\\nf 638 639 633\\n\\nf 633 639 634\\n\\nf 639 640 634\\n\\nf 634 640 635\\n\\nf 640 641 635\\n\\nf 635 641 636\\n\\nf 641 642 636\\n\\nf 636 642 28\\n\\nf 642 27 28\\n\\nf 19 20 637\\n\\nf 20 21 637\\n\\nf 637 21 638\\n\\nf 21 22 638\\n\\nf 638 22 639\\n\\nf 22 23 639\\n\\nf 639 23 640\\n\\nf 23 24 640\\n\\nf 640 24 641\\n\\nf 24 25 641\\n\\nf 641 25 642\\n\\nf 25 26 642\\n\\nf 642 26 27\\n\\nf 26 2 27\\n\"};\n",
              "        import * as THREE from 'https://threejsfundamentals.org/threejs/resources/threejs/r132/build/three.module.js';\n",
              "        import {OrbitControls} from 'https://threejsfundamentals.org/threejs/resources/threejs/r132/examples/jsm/controls/OrbitControls.js';\n",
              "        import {OBJLoader} from 'https://threejsfundamentals.org/threejs/resources/threejs/r132/examples/jsm/loaders/OBJLoader.js';\n",
              "\n",
              "        function main() {\n",
              "        const canvas = document.querySelector('#c');\n",
              "        const renderer = new THREE.WebGLRenderer({canvas});\n",
              "\n",
              "        const fov = 45;\n",
              "        const aspect = 2;  // the canvas default\n",
              "        const near = 0.1;\n",
              "        const far = 100;\n",
              "        const camera = new THREE.PerspectiveCamera(fov, aspect, near, far);\n",
              "        camera.position.set(0, 10, 20);\n",
              "\n",
              "        const controls = new OrbitControls(camera, canvas);\n",
              "        controls.target.set(0, 5, 0);\n",
              "        controls.update();\n",
              "\n",
              "        const scene = new THREE.Scene();\n",
              "        scene.background = new THREE.Color('black');\n",
              "\n",
              "        {\n",
              "            const skyColor = 0xB1E1FF;  // light blue\n",
              "            const groundColor = 0xB97A20;  // brownish orange\n",
              "            const intensity = 1;\n",
              "            const light = new THREE.HemisphereLight(skyColor, groundColor, intensity);\n",
              "            scene.add(light);\n",
              "        }\n",
              "\n",
              "        {\n",
              "            const color = 0xFFFFFF;\n",
              "            const intensity = 1;\n",
              "            const light = new THREE.DirectionalLight(color, intensity);\n",
              "            light.position.set(0, 10, 0);\n",
              "            light.target.position.set(-5, 0, 0);\n",
              "            scene.add(light);\n",
              "            scene.add(light.target);\n",
              "        }\n",
              "\n",
              "        {\n",
              "            const objLoader = new OBJLoader();\n",
              "            const mesh = objLoader.parse(obj_3d['obj']);\n",
              "            mesh.scale.set(30, 30, 30);\n",
              "            scene.add(mesh);\n",
              "        }\n",
              "\n",
              "        function resizeRendererToDisplaySize(renderer) {\n",
              "            const canvas = renderer.domElement;\n",
              "            const width = canvas.clientWidth;\n",
              "            const height = canvas.clientHeight;\n",
              "            const needResize = canvas.width !== width || canvas.height !== height;\n",
              "            if (needResize) {\n",
              "            renderer.setSize(width, height, false);\n",
              "            }\n",
              "            return needResize;\n",
              "        }\n",
              "\n",
              "        function render() {\n",
              "\n",
              "            if (resizeRendererToDisplaySize(renderer)) {\n",
              "            const canvas = renderer.domElement;\n",
              "            camera.aspect = canvas.clientWidth / canvas.clientHeight;\n",
              "            camera.updateProjectionMatrix();\n",
              "            }\n",
              "\n",
              "            renderer.render(scene, camera);\n",
              "\n",
              "            requestAnimationFrame(render);\n",
              "        }\n",
              "\n",
              "        requestAnimationFrame(render);\n",
              "        }\n",
              "\n",
              "        main();\n",
              "\n",
              "    </script>\n",
              "  </head>\n",
              "  <body>\n",
              "    <canvas id=\"c\"></canvas>\n",
              "  </body>\n",
              "</html>"
            ]
          },
          "metadata": {}
        }
      ]
    },
    {
      "cell_type": "code",
      "source": [],
      "metadata": {
        "id": "coQOjVyxPv2R"
      },
      "execution_count": null,
      "outputs": []
    }
  ]
}
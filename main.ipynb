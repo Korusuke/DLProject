{
 "cells": [
  {
   "cell_type": "markdown",
   "id": "29145052-b841-4bc0-ae99-9391450d99eb",
   "metadata": {
    "jp-MarkdownHeadingCollapsed": true,
    "tags": []
   },
   "source": [
    "# Import Everything"
   ]
  },
  {
   "cell_type": "code",
   "execution_count": null,
   "id": "f8cd97aa-1c82-428b-895f-7bbb0f853c87",
   "metadata": {},
   "outputs": [
    {
     "name": "stderr",
     "output_type": "stream",
     "text": [
      "/home/studio-lab-user/.conda/envs/DL/lib/python3.8/site-packages/tqdm-4.64.1-py3.8.egg/tqdm/auto.py:22: TqdmWarning: IProgress not found. Please update jupyter and ipywidgets. See https://ipywidgets.readthedocs.io/en/stable/user_install.html\n",
      "  from .autonotebook import tqdm as notebook_tqdm\n"
     ]
    }
   ],
   "source": [
    "import torch\n",
    "import torch.nn.parallel\n",
    "import soft_renderer as sr\n",
    "import soft_renderer.functional as srf\n",
    "import matplotlib.image as mpimg\n",
    "from SoftRas.examples.recon import models\n",
    "import os\n",
    "import imageio\n",
    "import numpy as np"
   ]
  },
  {
   "cell_type": "markdown",
   "id": "0d6dece3-9030-49fd-a3a4-c7cb7a61a9d3",
   "metadata": {
    "tags": []
   },
   "source": [
    "# Helper Functions and Parameters"
   ]
  },
  {
   "cell_type": "code",
   "execution_count": null,
   "id": "40063fc6-ca10-445f-862f-80c7af474996",
   "metadata": {},
   "outputs": [],
   "source": [
    "class AverageMeter(object):\n",
    "    \"\"\"Computes and stores the average and current value\"\"\"\n",
    "    def __init__(self):\n",
    "        self.reset()\n",
    "\n",
    "    def reset(self):\n",
    "        self.val = 0\n",
    "        self.avg = 0\n",
    "        self.sum = 0\n",
    "        self.count = 0\n",
    "\n",
    "    def update(self, val, n=1):\n",
    "        self.val = val\n",
    "        self.sum += val * n\n",
    "        self.count += n\n",
    "        self.avg = self.sum / self.count\n",
    "\n",
    "\n",
    "def img_cvt(images):\n",
    "    return (255. * images).detach().cpu().numpy().clip(0, 255).astype('uint8').transpose(1, 2, 0)\n",
    "\n",
    "def rev_img(image):\n",
    "    return torch.from_numpy(image.transpose(2,0,1)) "
   ]
  },
  {
   "cell_type": "code",
   "execution_count": null,
   "id": "298e581f-d384-42b8-bed4-d5f370b4a1c5",
   "metadata": {},
   "outputs": [],
   "source": [
    "IMAGE_SIZE = 64\n",
    "CLASS_IDS_ALL = (\n",
    "    '02691156,02828884,02933112,02958343,03001627,03211117,03636649,' +\n",
    "    '03691459,04090263,04256520,04379243,04401088,04530566')\n",
    "\n",
    "MODEL_DIRECTORY = 'SoftRas/data/results/models/recon/softras_checkpoint_model.tar'\n",
    "\n",
    "SIGMA_VAL = 0.01\n",
    "IMAGE_PATH = './images/test.png'\n",
    "OBJ_PATH = './objs/test.obj'"
   ]
  },
  {
   "cell_type": "code",
   "execution_count": null,
   "id": "e447f974-652e-40df-9fbf-bcd91139cb44",
   "metadata": {},
   "outputs": [],
   "source": [
    "class Args:\n",
    "    image_size = IMAGE_SIZE\n",
    "    sigma_val = SIGMA_VAL\n",
    "\n",
    "args=Args()"
   ]
  },
  {
   "cell_type": "markdown",
   "id": "4c0b021f-f678-400d-bd14-d57a5ea4e328",
   "metadata": {},
   "source": [
    "# Visualize input image"
   ]
  },
  {
   "cell_type": "code",
   "execution_count": null,
   "id": "3202bb55-99c7-4851-a70f-5b198e5ea02c",
   "metadata": {},
   "outputs": [
    {
     "data": {
      "text/plain": [
       "<matplotlib.image.AxesImage at 0x7f290c01f0a0>"
      ]
     },
     "execution_count": 5,
     "metadata": {},
     "output_type": "execute_result"
    },
    {
     "data": {
      "image/png": "[encoded data removed]",
      "text/plain": [
       "<Figure size 432x288 with 1 Axes>"
      ]
     },
     "metadata": {
      "needs_background": "light"
     },
     "output_type": "display_data"
    }
   ],
   "source": [
    "import matplotlib.pyplot as plt\n",
    "\n",
    "im = mpimg.imread(IMAGE_PATH)\n",
    "plt.imshow(im)"
   ]
  },
  {
   "cell_type": "markdown",
   "id": "c0e81ca7-348a-4571-a90f-0f4d8925de7f",
   "metadata": {},
   "source": [
    "# Import pretrained Model and Generate obj"
   ]
  },
  {
   "cell_type": "code",
   "execution_count": null,
   "id": "e552acb1-2690-44f1-ae09-d7eee82bda6d",
   "metadata": {
    "collapsed": true,
    "jupyter": {
     "outputs_hidden": true
    },
    "tags": []
   },
   "outputs": [
    {
     "data": {
      "text/plain": [
       "Model(\n",
       "  (encoder): Encoder(\n",
       "    (conv1): Conv2d(4, 64, kernel_size=(5, 5), stride=(2, 2), padding=(2, 2))\n",
       "    (conv2): Conv2d(64, 128, kernel_size=(5, 5), stride=(2, 2), padding=(2, 2))\n",
       "    (conv3): Conv2d(128, 256, kernel_size=(5, 5), stride=(2, 2), padding=(2, 2))\n",
       "    (bn1): BatchNorm2d(64, eps=1e-05, momentum=0.1, affine=True, track_running_stats=True)\n",
       "    (bn2): BatchNorm2d(128, eps=1e-05, momentum=0.1, affine=True, track_running_stats=True)\n",
       "    (bn3): BatchNorm2d(256, eps=1e-05, momentum=0.1, affine=True, track_running_stats=True)\n",
       "    (fc1): Linear(in_features=16384, out_features=1024, bias=True)\n",
       "    (fc2): Linear(in_features=1024, out_features=1024, bias=True)\n",
       "    (fc3): Linear(in_features=1024, out_features=512, bias=True)\n",
       "  )\n",
       "  (decoder): Decoder(\n",
       "    (fc1): Linear(in_features=512, out_features=1024, bias=True)\n",
       "    (fc2): Linear(in_features=1024, out_features=2048, bias=True)\n",
       "    (fc_centroid): Linear(in_features=2048, out_features=3, bias=True)\n",
       "    (fc_bias): Linear(in_features=2048, out_features=1926, bias=True)\n",
       "  )\n",
       "  (transform): LookAt()\n",
       "  (lighting): Lighting(\n",
       "    (ambient): AmbientLighting()\n",
       "    (directionals): ModuleList(\n",
       "      (0): DirectionalLighting()\n",
       "    )\n",
       "  )\n",
       "  (rasterizer): SoftRasterizer()\n",
       "  (laplacian_loss): LaplacianLoss()\n",
       "  (flatten_loss): FlattenLoss()\n",
       ")"
      ]
     },
     "execution_count": 6,
     "metadata": {},
     "output_type": "execute_result"
    }
   ],
   "source": [
    "model = models.Model('SoftRas/data/obj/sphere/sphere_642.obj', args=args)\n",
    "model = model.cuda()\n",
    "\n",
    "state_dicts = torch.load(MODEL_DIRECTORY)\n",
    "\n",
    "model.load_state_dict(state_dicts['model'], strict=True)\n",
    "model.eval()"
   ]
  },
  {
   "cell_type": "code",
   "execution_count": null,
   "id": "5c1c59a6-0a32-4466-90bc-0ac2eca37a5e",
   "metadata": {},
   "outputs": [
    {
     "name": "stdout",
     "output_type": "stream",
     "text": [
      "torch.Size([1, 4, 64, 64])\n"
     ]
    }
   ],
   "source": [
    "image = rev_img(im).reshape(-1,4,64,64)\n",
    "image = torch.autograd.Variable(image).cuda()\n",
    "print(image.shape)"
   ]
  },
  {
   "cell_type": "code",
   "execution_count": null,
   "id": "464a19f1-3269-4085-bccc-35555b1be187",
   "metadata": {
    "tags": []
   },
   "outputs": [],
   "source": [
    "vertices, faces = model.reconstruct(image)\n",
    "srf.save_obj(OBJ_PATH, vertices[0], faces[0])"
   ]
  },
  {
   "cell_type": "markdown",
   "id": "7e3d6ec0-f994-4467-aee1-d56cb5b329da",
   "metadata": {},
   "source": [
    "# Visualize OBJ"
   ]
  },
  {
   "cell_type": "code",
   "execution_count": null,
   "id": "99e884ee-5353-400e-9c63-f64b67a7e3ce",
   "metadata": {},
   "outputs": [],
   "source": [
    "import pyvista\n",
    "\n",
    "reader = pyvista.get_reader('objs/test.obj')\n",
    "mesh = reader.read()\n",
    "mesh.plot(cpos='yz', show_scalar_bar=False)"
   ]
  },
  {
   "cell_type": "code",
   "execution_count": null,
   "id": "8f288975-3986-4274-9932-8409ad45520c",
   "metadata": {},
   "outputs": [],
   "source": []
  }
 ],
 "metadata": {
  "kernelspec": {
   "display_name": "DL:Python",
   "language": "python",
   "name": "conda-env-DL-py"
  },
  "language_info": {
   "codemirror_mode": {
    "name": "ipython",
    "version": 3
   },
   "file_extension": ".py",
   "mimetype": "text/x-python",
   "name": "python",
   "nbconvert_exporter": "python",
   "pygments_lexer": "ipython3",
   "version": "3.8.15"
  }
 },
 "nbformat": 4,
 "nbformat_minor": 5
}
